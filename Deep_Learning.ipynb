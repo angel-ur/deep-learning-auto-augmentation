{
  "nbformat": 4,
  "nbformat_minor": 0,
  "metadata": {
    "colab": {
      "name": "Deep Learning.ipynb",
      "version": "0.3.2",
      "provenance": [],
      "collapsed_sections": [
        "oE_YUvVgtFYx"
      ],
      "toc_visible": true
    },
    "language_info": {
      "codemirror_mode": {
        "name": "ipython",
        "version": 3
      },
      "file_extension": ".py",
      "mimetype": "text/x-python",
      "name": "python",
      "nbconvert_exporter": "python",
      "pygments_lexer": "ipython3",
      "version": "3.6.8"
    },
    "kernelspec": {
      "name": "python3",
      "display_name": "Python 3"
    },
    "accelerator": "GPU"
  },
  "cells": [
    {
      "cell_type": "markdown",
      "metadata": {
        "id": "2PuEYetKT7wo",
        "colab_type": "text"
      },
      "source": [
        "# This first section is for setting up the enviornment"
      ]
    },
    {
      "cell_type": "code",
      "metadata": {
        "id": "XTUazjGDIiry",
        "colab_type": "code",
        "colab": {
          "base_uri": "https://localhost:8080/",
          "height": 4525
        },
        "outputId": "e906a24a-0090-4f59-ba3a-ce53efa1bbd0"
      },
      "source": [
        "# Setting up the enviornment for GOOGLE COLAB, deepaugment only works with old Tensorflow versions\n",
        "# version of Tensorflow needed: 1.12\n",
        "# version of CUDA: 9.0\n",
        "!wget https://developer.nvidia.com/compute/cuda/9.0/Prod/local_installers/cuda-repo-ubuntu1604-9-0-local_9.0.176-1_amd64-deb\n",
        "!dpkg -i cuda-repo-ubuntu1604-9-0-local_9.0.176-1_amd64-deb\n",
        "!apt-key add /var/cuda-repo-9-0-local/7fa2af80.pub\n",
        "!apt-get update\n",
        "!apt-get install cuda=9.0.176-1"
      ],
      "execution_count": 1,
      "outputs": [
        {
          "output_type": "stream",
          "text": [
            "--2019-05-15 08:39:50--  https://developer.nvidia.com/compute/cuda/9.0/Prod/local_installers/cuda-repo-ubuntu1604-9-0-local_9.0.176-1_amd64-deb\n",
            "Resolving developer.nvidia.com (developer.nvidia.com)... 192.229.162.216\n",
            "Connecting to developer.nvidia.com (developer.nvidia.com)|192.229.162.216|:443... connected.\n",
            "HTTP request sent, awaiting response... 302 Found\n",
            "Location: https://developer.download.nvidia.com/compute/cuda/9.0/secure/Prod/local_installers/cuda-repo-ubuntu1604-9-0-local_9.0.176-1_amd64.deb?QLA35DzaiywQd-A4BWIyfMjge-iXtDnfveZ61rfWXDS8u26U85IRDwSkbp1Bz8Vqla7luicy_PSeIACxFNOV01wO_ZQfrtc23s4CdDfqPM-_JjFDMm8l7dGWEnjxzsOYnF0n01ooxbB5Sl6esfnX6PmyNsh12tzLYVM2y-6gCEYBK7PJQfxjMEgpahSLJpBPFNIioiH0CduvOQjxk2ys [following]\n",
            "--2019-05-15 08:39:51--  https://developer.download.nvidia.com/compute/cuda/9.0/secure/Prod/local_installers/cuda-repo-ubuntu1604-9-0-local_9.0.176-1_amd64.deb?QLA35DzaiywQd-A4BWIyfMjge-iXtDnfveZ61rfWXDS8u26U85IRDwSkbp1Bz8Vqla7luicy_PSeIACxFNOV01wO_ZQfrtc23s4CdDfqPM-_JjFDMm8l7dGWEnjxzsOYnF0n01ooxbB5Sl6esfnX6PmyNsh12tzLYVM2y-6gCEYBK7PJQfxjMEgpahSLJpBPFNIioiH0CduvOQjxk2ys\n",
            "Resolving developer.download.nvidia.com (developer.download.nvidia.com)... 192.229.211.70, 2606:2800:21f:3aa:dcf:37b:1ed6:1fb\n",
            "Connecting to developer.download.nvidia.com (developer.download.nvidia.com)|192.229.211.70|:443... connected.\n",
            "HTTP request sent, awaiting response... 200 OK\n",
            "Length: 1212738714 (1.1G) [application/x-deb]\n",
            "Saving to: ‘cuda-repo-ubuntu1604-9-0-local_9.0.176-1_amd64-deb’\n",
            "\n",
            "cuda-repo-ubuntu160 100%[===================>]   1.13G   156MB/s    in 7.4s    \n",
            "\n",
            "2019-05-15 08:39:59 (157 MB/s) - ‘cuda-repo-ubuntu1604-9-0-local_9.0.176-1_amd64-deb’ saved [1212738714/1212738714]\n",
            "\n",
            "Selecting previously unselected package cuda-repo-ubuntu1604-9-0-local.\n",
            "(Reading database ... 130811 files and directories currently installed.)\n",
            "Preparing to unpack cuda-repo-ubuntu1604-9-0-local_9.0.176-1_amd64-deb ...\n",
            "Unpacking cuda-repo-ubuntu1604-9-0-local (9.0.176-1) ...\n",
            "Setting up cuda-repo-ubuntu1604-9-0-local (9.0.176-1) ...\n",
            "OK\n",
            "Get:1 file:/var/cuda-repo-9-0-local  InRelease\n",
            "Ign:1 file:/var/cuda-repo-9-0-local  InRelease\n",
            "Get:2 file:/var/cuda-repo-9-0-local  Release [574 B]\n",
            "Get:2 file:/var/cuda-repo-9-0-local  Release [574 B]\n",
            "Get:3 file:/var/cuda-repo-9-0-local  Release.gpg [819 B]\n",
            "Get:3 file:/var/cuda-repo-9-0-local  Release.gpg [819 B]\n",
            "Ign:4 https://developer.download.nvidia.com/compute/cuda/repos/ubuntu1804/x86_64  InRelease\n",
            "Hit:5 http://archive.ubuntu.com/ubuntu bionic InRelease\n",
            "Get:6 http://security.ubuntu.com/ubuntu bionic-security InRelease [88.7 kB]\n",
            "Hit:7 http://ppa.launchpad.net/graphics-drivers/ppa/ubuntu bionic InRelease\n",
            "Get:8 file:/var/cuda-repo-9-0-local  Packages [15.4 kB]\n",
            "Ign:9 https://developer.download.nvidia.com/compute/machine-learning/repos/ubuntu1804/x86_64  InRelease\n",
            "Get:10 https://developer.download.nvidia.com/compute/cuda/repos/ubuntu1804/x86_64  Release [564 B]\n",
            "Get:11 https://developer.download.nvidia.com/compute/machine-learning/repos/ubuntu1804/x86_64  Release [564 B]\n",
            "Get:12 http://archive.ubuntu.com/ubuntu bionic-updates InRelease [88.7 kB]\n",
            "Get:13 https://developer.download.nvidia.com/compute/cuda/repos/ubuntu1804/x86_64  Release.gpg [801 B]\n",
            "Get:14 https://developer.download.nvidia.com/compute/machine-learning/repos/ubuntu1804/x86_64  Release.gpg [801 B]\n",
            "Get:15 http://ppa.launchpad.net/marutter/c2d4u3.5/ubuntu bionic InRelease [15.4 kB]\n",
            "Get:16 https://cloud.r-project.org/bin/linux/ubuntu bionic-cran35/ InRelease [3,609 B]\n",
            "Get:17 http://archive.ubuntu.com/ubuntu bionic-backports InRelease [74.6 kB]\n",
            "Get:18 https://developer.download.nvidia.com/compute/cuda/repos/ubuntu1804/x86_64  Packages [84.5 kB]\n",
            "Get:19 https://developer.download.nvidia.com/compute/machine-learning/repos/ubuntu1804/x86_64  Packages [8,372 B]\n",
            "Get:20 http://ppa.launchpad.net/marutter/c2d4u3.5/ubuntu bionic/main Sources [1,631 kB]\n",
            "Get:21 https://cloud.r-project.org/bin/linux/ubuntu bionic-cran35/ Packages [73.1 kB]\n",
            "Get:22 http://security.ubuntu.com/ubuntu bionic-security/universe amd64 Packages [305 kB]\n",
            "Get:23 http://archive.ubuntu.com/ubuntu bionic-updates/main amd64 Packages [797 kB]\n",
            "Get:24 http://security.ubuntu.com/ubuntu bionic-security/multiverse amd64 Packages [4,168 B]\n",
            "Get:25 http://security.ubuntu.com/ubuntu bionic-security/main amd64 Packages [428 kB]\n",
            "Get:26 http://archive.ubuntu.com/ubuntu bionic-updates/universe amd64 Packages [1,196 kB]\n",
            "Get:27 http://ppa.launchpad.net/marutter/c2d4u3.5/ubuntu bionic/main amd64 Packages [783 kB]\n",
            "Get:28 http://archive.ubuntu.com/ubuntu bionic-updates/multiverse amd64 Packages [7,236 B]\n",
            "Fetched 5,592 kB in 4s (1,432 kB/s)\n",
            "Reading package lists... Done\n",
            "Reading package lists... Done\n",
            "Building dependency tree       \n",
            "Reading state information... Done\n",
            "The following package was automatically installed and is no longer required:\n",
            "  libnvidia-common-410\n",
            "Use 'apt autoremove' to remove it.\n",
            "The following additional packages will be installed:\n",
            "  cuda-9-0 cuda-command-line-tools-9-0 cuda-core-9-0 cuda-cublas-9-0\n",
            "  cuda-cublas-dev-9-0 cuda-cudart-9-0 cuda-cudart-dev-9-0 cuda-cufft-9-0\n",
            "  cuda-cufft-dev-9-0 cuda-curand-9-0 cuda-curand-dev-9-0 cuda-cusolver-9-0\n",
            "  cuda-cusolver-dev-9-0 cuda-cusparse-9-0 cuda-cusparse-dev-9-0\n",
            "  cuda-demo-suite-9-0 cuda-documentation-9-0 cuda-driver-dev-9-0\n",
            "  cuda-libraries-9-0 cuda-libraries-dev-9-0 cuda-license-9-0\n",
            "  cuda-misc-headers-9-0 cuda-npp-9-0 cuda-npp-dev-9-0 cuda-nvgraph-9-0\n",
            "  cuda-nvgraph-dev-9-0 cuda-nvml-dev-9-0 cuda-nvrtc-9-0 cuda-nvrtc-dev-9-0\n",
            "  cuda-runtime-9-0 cuda-samples-9-0 cuda-toolkit-9-0 cuda-visual-tools-9-0\n",
            "The following NEW packages will be installed:\n",
            "  cuda cuda-9-0 cuda-command-line-tools-9-0 cuda-core-9-0 cuda-cublas-9-0\n",
            "  cuda-cublas-dev-9-0 cuda-cudart-9-0 cuda-cudart-dev-9-0 cuda-cufft-9-0\n",
            "  cuda-cufft-dev-9-0 cuda-curand-9-0 cuda-curand-dev-9-0 cuda-cusolver-9-0\n",
            "  cuda-cusolver-dev-9-0 cuda-cusparse-9-0 cuda-cusparse-dev-9-0\n",
            "  cuda-demo-suite-9-0 cuda-documentation-9-0 cuda-driver-dev-9-0\n",
            "  cuda-libraries-9-0 cuda-libraries-dev-9-0 cuda-license-9-0\n",
            "  cuda-misc-headers-9-0 cuda-npp-9-0 cuda-npp-dev-9-0 cuda-nvgraph-9-0\n",
            "  cuda-nvgraph-dev-9-0 cuda-nvml-dev-9-0 cuda-nvrtc-9-0 cuda-nvrtc-dev-9-0\n",
            "  cuda-runtime-9-0 cuda-samples-9-0 cuda-toolkit-9-0 cuda-visual-tools-9-0\n",
            "0 upgraded, 34 newly installed, 0 to remove and 48 not upgraded.\n",
            "Need to get 0 B/1,097 MB of archives.\n",
            "After this operation, 2,315 MB of additional disk space will be used.\n",
            "Get:1 file:/var/cuda-repo-9-0-local  cuda-license-9-0 9.0.176-1 [22.0 kB]\n",
            "Get:2 file:/var/cuda-repo-9-0-local  cuda-misc-headers-9-0 9.0.176-1 [684 kB]\n",
            "Get:3 file:/var/cuda-repo-9-0-local  cuda-core-9-0 9.0.176-1 [16.9 MB]\n",
            "Get:4 file:/var/cuda-repo-9-0-local  cuda-cudart-9-0 9.0.176-1 [106 kB]\n",
            "Get:5 file:/var/cuda-repo-9-0-local  cuda-driver-dev-9-0 9.0.176-1 [10.9 kB]\n",
            "Get:6 file:/var/cuda-repo-9-0-local  cuda-cudart-dev-9-0 9.0.176-1 [767 kB]\n",
            "Get:7 file:/var/cuda-repo-9-0-local  cuda-command-line-tools-9-0 9.0.176-1 [25.4 MB]\n",
            "Get:8 file:/var/cuda-repo-9-0-local  cuda-nvrtc-9-0 9.0.176-1 [6,348 kB]\n",
            "Get:9 file:/var/cuda-repo-9-0-local  cuda-nvrtc-dev-9-0 9.0.176-1 [9,334 B]\n",
            "Get:10 file:/var/cuda-repo-9-0-local  cuda-cusolver-9-0 9.0.176-1 [26.2 MB]\n",
            "Get:11 file:/var/cuda-repo-9-0-local  cuda-cusolver-dev-9-0 9.0.176-1 [5,317 kB]\n",
            "Get:12 file:/var/cuda-repo-9-0-local  cuda-cublas-9-0 9.0.176-1 [25.0 MB]\n",
            "Get:13 file:/var/cuda-repo-9-0-local  cuda-cublas-dev-9-0 9.0.176-1 [49.4 MB]\n",
            "Get:14 file:/var/cuda-repo-9-0-local  cuda-cufft-9-0 9.0.176-1 [84.1 MB]\n",
            "Get:15 file:/var/cuda-repo-9-0-local  cuda-cufft-dev-9-0 9.0.176-1 [73.7 MB]\n",
            "Get:16 file:/var/cuda-repo-9-0-local  cuda-curand-9-0 9.0.176-1 [38.8 MB]\n",
            "Get:17 file:/var/cuda-repo-9-0-local  cuda-curand-dev-9-0 9.0.176-1 [57.9 MB]\n",
            "Get:18 file:/var/cuda-repo-9-0-local  cuda-cusparse-9-0 9.0.176-1 [25.2 MB]\n",
            "Get:19 file:/var/cuda-repo-9-0-local  cuda-cusparse-dev-9-0 9.0.176-1 [25.3 MB]\n",
            "Get:20 file:/var/cuda-repo-9-0-local  cuda-npp-9-0 9.0.176-1 [46.6 MB]\n",
            "Get:21 file:/var/cuda-repo-9-0-local  cuda-npp-dev-9-0 9.0.176-1 [46.6 MB]\n",
            "Get:22 file:/var/cuda-repo-9-0-local  cuda-nvgraph-9-0 9.0.176-1 [6,081 kB]\n",
            "Get:23 file:/var/cuda-repo-9-0-local  cuda-nvgraph-dev-9-0 9.0.176-1 [5,658 kB]\n",
            "Get:24 file:/var/cuda-repo-9-0-local  cuda-samples-9-0 9.0.176-1 [75.9 MB]\n",
            "Get:25 file:/var/cuda-repo-9-0-local  cuda-documentation-9-0 9.0.176-1 [53.1 MB]\n",
            "Get:26 file:/var/cuda-repo-9-0-local  cuda-libraries-dev-9-0 9.0.176-1 [2,596 B]\n",
            "Get:27 file:/var/cuda-repo-9-0-local  cuda-nvml-dev-9-0 9.0.176-1 [47.6 kB]\n",
            "Get:28 file:/var/cuda-repo-9-0-local  cuda-visual-tools-9-0 9.0.176-1 [398 MB]\n",
            "Get:29 file:/var/cuda-repo-9-0-local  cuda-toolkit-9-0 9.0.176-1 [2,836 B]\n",
            "Get:30 file:/var/cuda-repo-9-0-local  cuda-libraries-9-0 9.0.176-1 [2,566 B]\n",
            "Get:31 file:/var/cuda-repo-9-0-local  cuda-runtime-9-0 9.0.176-1 [2,526 B]\n",
            "Get:32 file:/var/cuda-repo-9-0-local  cuda-demo-suite-9-0 9.0.176-1 [3,880 kB]\n",
            "Get:33 file:/var/cuda-repo-9-0-local  cuda-9-0 9.0.176-1 [2,552 B]\n",
            "Get:34 file:/var/cuda-repo-9-0-local  cuda 9.0.176-1 [2,504 B]\n",
            "Extracting templates from packages: 100%\n",
            "Selecting previously unselected package cuda-license-9-0.\n",
            "(Reading database ... 130870 files and directories currently installed.)\n",
            "Preparing to unpack .../00-cuda-license-9-0_9.0.176-1_amd64.deb ...\n",
            "Unpacking cuda-license-9-0 (9.0.176-1) ...\n",
            "Selecting previously unselected package cuda-misc-headers-9-0.\n",
            "Preparing to unpack .../01-cuda-misc-headers-9-0_9.0.176-1_amd64.deb ...\n",
            "Unpacking cuda-misc-headers-9-0 (9.0.176-1) ...\n",
            "Selecting previously unselected package cuda-core-9-0.\n",
            "Preparing to unpack .../02-cuda-core-9-0_9.0.176-1_amd64.deb ...\n",
            "Unpacking cuda-core-9-0 (9.0.176-1) ...\n",
            "Selecting previously unselected package cuda-cudart-9-0.\n",
            "Preparing to unpack .../03-cuda-cudart-9-0_9.0.176-1_amd64.deb ...\n",
            "Unpacking cuda-cudart-9-0 (9.0.176-1) ...\n",
            "Selecting previously unselected package cuda-driver-dev-9-0.\n",
            "Preparing to unpack .../04-cuda-driver-dev-9-0_9.0.176-1_amd64.deb ...\n",
            "Unpacking cuda-driver-dev-9-0 (9.0.176-1) ...\n",
            "Selecting previously unselected package cuda-cudart-dev-9-0.\n",
            "Preparing to unpack .../05-cuda-cudart-dev-9-0_9.0.176-1_amd64.deb ...\n",
            "Unpacking cuda-cudart-dev-9-0 (9.0.176-1) ...\n",
            "Selecting previously unselected package cuda-command-line-tools-9-0.\n",
            "Preparing to unpack .../06-cuda-command-line-tools-9-0_9.0.176-1_amd64.deb ...\n",
            "Unpacking cuda-command-line-tools-9-0 (9.0.176-1) ...\n",
            "Selecting previously unselected package cuda-nvrtc-9-0.\n",
            "Preparing to unpack .../07-cuda-nvrtc-9-0_9.0.176-1_amd64.deb ...\n",
            "Unpacking cuda-nvrtc-9-0 (9.0.176-1) ...\n",
            "Selecting previously unselected package cuda-nvrtc-dev-9-0.\n",
            "Preparing to unpack .../08-cuda-nvrtc-dev-9-0_9.0.176-1_amd64.deb ...\n",
            "Unpacking cuda-nvrtc-dev-9-0 (9.0.176-1) ...\n",
            "Selecting previously unselected package cuda-cusolver-9-0.\n",
            "Preparing to unpack .../09-cuda-cusolver-9-0_9.0.176-1_amd64.deb ...\n",
            "Unpacking cuda-cusolver-9-0 (9.0.176-1) ...\n",
            "Selecting previously unselected package cuda-cusolver-dev-9-0.\n",
            "Preparing to unpack .../10-cuda-cusolver-dev-9-0_9.0.176-1_amd64.deb ...\n",
            "Unpacking cuda-cusolver-dev-9-0 (9.0.176-1) ...\n",
            "Selecting previously unselected package cuda-cublas-9-0.\n",
            "Preparing to unpack .../11-cuda-cublas-9-0_9.0.176-1_amd64.deb ...\n",
            "Unpacking cuda-cublas-9-0 (9.0.176-1) ...\n",
            "Selecting previously unselected package cuda-cublas-dev-9-0.\n",
            "Preparing to unpack .../12-cuda-cublas-dev-9-0_9.0.176-1_amd64.deb ...\n",
            "Unpacking cuda-cublas-dev-9-0 (9.0.176-1) ...\n",
            "Selecting previously unselected package cuda-cufft-9-0.\n",
            "Preparing to unpack .../13-cuda-cufft-9-0_9.0.176-1_amd64.deb ...\n",
            "Unpacking cuda-cufft-9-0 (9.0.176-1) ...\n",
            "Selecting previously unselected package cuda-cufft-dev-9-0.\n",
            "Preparing to unpack .../14-cuda-cufft-dev-9-0_9.0.176-1_amd64.deb ...\n",
            "Unpacking cuda-cufft-dev-9-0 (9.0.176-1) ...\n",
            "Selecting previously unselected package cuda-curand-9-0.\n",
            "Preparing to unpack .../15-cuda-curand-9-0_9.0.176-1_amd64.deb ...\n",
            "Unpacking cuda-curand-9-0 (9.0.176-1) ...\n",
            "Selecting previously unselected package cuda-curand-dev-9-0.\n",
            "Preparing to unpack .../16-cuda-curand-dev-9-0_9.0.176-1_amd64.deb ...\n",
            "Unpacking cuda-curand-dev-9-0 (9.0.176-1) ...\n",
            "Selecting previously unselected package cuda-cusparse-9-0.\n",
            "Preparing to unpack .../17-cuda-cusparse-9-0_9.0.176-1_amd64.deb ...\n",
            "Unpacking cuda-cusparse-9-0 (9.0.176-1) ...\n",
            "Selecting previously unselected package cuda-cusparse-dev-9-0.\n",
            "Preparing to unpack .../18-cuda-cusparse-dev-9-0_9.0.176-1_amd64.deb ...\n",
            "Unpacking cuda-cusparse-dev-9-0 (9.0.176-1) ...\n",
            "Selecting previously unselected package cuda-npp-9-0.\n",
            "Preparing to unpack .../19-cuda-npp-9-0_9.0.176-1_amd64.deb ...\n",
            "Unpacking cuda-npp-9-0 (9.0.176-1) ...\n",
            "Selecting previously unselected package cuda-npp-dev-9-0.\n",
            "Preparing to unpack .../20-cuda-npp-dev-9-0_9.0.176-1_amd64.deb ...\n",
            "Unpacking cuda-npp-dev-9-0 (9.0.176-1) ...\n",
            "Selecting previously unselected package cuda-nvgraph-9-0.\n",
            "Preparing to unpack .../21-cuda-nvgraph-9-0_9.0.176-1_amd64.deb ...\n",
            "Unpacking cuda-nvgraph-9-0 (9.0.176-1) ...\n",
            "Selecting previously unselected package cuda-nvgraph-dev-9-0.\n",
            "Preparing to unpack .../22-cuda-nvgraph-dev-9-0_9.0.176-1_amd64.deb ...\n",
            "Unpacking cuda-nvgraph-dev-9-0 (9.0.176-1) ...\n",
            "Selecting previously unselected package cuda-samples-9-0.\n",
            "Preparing to unpack .../23-cuda-samples-9-0_9.0.176-1_amd64.deb ...\n",
            "Unpacking cuda-samples-9-0 (9.0.176-1) ...\n",
            "Selecting previously unselected package cuda-documentation-9-0.\n",
            "Preparing to unpack .../24-cuda-documentation-9-0_9.0.176-1_amd64.deb ...\n",
            "Unpacking cuda-documentation-9-0 (9.0.176-1) ...\n",
            "Selecting previously unselected package cuda-libraries-dev-9-0.\n",
            "Preparing to unpack .../25-cuda-libraries-dev-9-0_9.0.176-1_amd64.deb ...\n",
            "Unpacking cuda-libraries-dev-9-0 (9.0.176-1) ...\n",
            "Selecting previously unselected package cuda-nvml-dev-9-0.\n",
            "Preparing to unpack .../26-cuda-nvml-dev-9-0_9.0.176-1_amd64.deb ...\n",
            "Unpacking cuda-nvml-dev-9-0 (9.0.176-1) ...\n",
            "Selecting previously unselected package cuda-visual-tools-9-0.\n",
            "Preparing to unpack .../27-cuda-visual-tools-9-0_9.0.176-1_amd64.deb ...\n",
            "Unpacking cuda-visual-tools-9-0 (9.0.176-1) ...\n",
            "Selecting previously unselected package cuda-toolkit-9-0.\n",
            "Preparing to unpack .../28-cuda-toolkit-9-0_9.0.176-1_amd64.deb ...\n",
            "Unpacking cuda-toolkit-9-0 (9.0.176-1) ...\n",
            "Selecting previously unselected package cuda-libraries-9-0.\n",
            "Preparing to unpack .../29-cuda-libraries-9-0_9.0.176-1_amd64.deb ...\n",
            "Unpacking cuda-libraries-9-0 (9.0.176-1) ...\n",
            "Selecting previously unselected package cuda-runtime-9-0.\n",
            "Preparing to unpack .../30-cuda-runtime-9-0_9.0.176-1_amd64.deb ...\n",
            "Unpacking cuda-runtime-9-0 (9.0.176-1) ...\n",
            "Selecting previously unselected package cuda-demo-suite-9-0.\n",
            "Preparing to unpack .../31-cuda-demo-suite-9-0_9.0.176-1_amd64.deb ...\n",
            "Unpacking cuda-demo-suite-9-0 (9.0.176-1) ...\n",
            "Selecting previously unselected package cuda-9-0.\n",
            "Preparing to unpack .../32-cuda-9-0_9.0.176-1_amd64.deb ...\n",
            "Unpacking cuda-9-0 (9.0.176-1) ...\n",
            "Selecting previously unselected package cuda.\n",
            "Preparing to unpack .../33-cuda_9.0.176-1_amd64.deb ...\n",
            "Unpacking cuda (9.0.176-1) ...\n",
            "Setting up cuda-license-9-0 (9.0.176-1) ...\n",
            "*** LICENSE AGREEMENT ***\n",
            "By using this software you agree to fully comply with the terms and \n",
            "conditions of the EULA (End User License Agreement). The EULA is located\n",
            "at /usr/local/cuda-9.0/doc/EULA.txt. The EULA can also be found at\n",
            "http://docs.nvidia.com/cuda/eula/index.html. If you do not agree to the\n",
            "terms and conditions of the EULA, do not use the software.\n",
            "\n",
            "Setting up cuda-cusparse-9-0 (9.0.176-1) ...\n",
            "Setting up cuda-cudart-9-0 (9.0.176-1) ...\n",
            "Setting up cuda-nvrtc-9-0 (9.0.176-1) ...\n",
            "Setting up cuda-cusparse-dev-9-0 (9.0.176-1) ...\n",
            "Setting up cuda-cufft-9-0 (9.0.176-1) ...\n",
            "Setting up cuda-cusolver-9-0 (9.0.176-1) ...\n",
            "Setting up cuda-nvml-dev-9-0 (9.0.176-1) ...\n",
            "Setting up cuda-npp-9-0 (9.0.176-1) ...\n",
            "Setting up cuda-cusolver-dev-9-0 (9.0.176-1) ...\n",
            "Setting up cuda-misc-headers-9-0 (9.0.176-1) ...\n",
            "Setting up cuda-cublas-9-0 (9.0.176-1) ...\n",
            "Setting up cuda-nvrtc-dev-9-0 (9.0.176-1) ...\n",
            "Setting up cuda-driver-dev-9-0 (9.0.176-1) ...\n",
            "Setting up cuda-curand-9-0 (9.0.176-1) ...\n",
            "Setting up cuda-nvgraph-9-0 (9.0.176-1) ...\n",
            "Setting up cuda-core-9-0 (9.0.176-1) ...\n",
            "Setting up cuda-libraries-9-0 (9.0.176-1) ...\n",
            "Setting up cuda-runtime-9-0 (9.0.176-1) ...\n",
            "Setting up cuda-cudart-dev-9-0 (9.0.176-1) ...\n",
            "Setting up cuda-cufft-dev-9-0 (9.0.176-1) ...\n",
            "Setting up cuda-npp-dev-9-0 (9.0.176-1) ...\n",
            "Setting up cuda-curand-dev-9-0 (9.0.176-1) ...\n",
            "Setting up cuda-cublas-dev-9-0 (9.0.176-1) ...\n",
            "Setting up cuda-nvgraph-dev-9-0 (9.0.176-1) ...\n",
            "Setting up cuda-command-line-tools-9-0 (9.0.176-1) ...\n",
            "Setting up cuda-demo-suite-9-0 (9.0.176-1) ...\n",
            "Setting up cuda-visual-tools-9-0 (9.0.176-1) ...\n",
            "Setting up cuda-samples-9-0 (9.0.176-1) ...\n",
            "Setting up cuda-libraries-dev-9-0 (9.0.176-1) ...\n",
            "Setting up cuda-documentation-9-0 (9.0.176-1) ...\n",
            "Setting up cuda-toolkit-9-0 (9.0.176-1) ...\n",
            "Setting up cuda-9-0 (9.0.176-1) ...\n",
            "Setting up cuda (9.0.176-1) ...\n",
            "Processing triggers for libc-bin (2.27-3ubuntu1) ...\n"
          ],
          "name": "stdout"
        }
      ]
    },
    {
      "cell_type": "code",
      "metadata": {
        "id": "fQUFRVSVvSXC",
        "colab_type": "code",
        "colab": {
          "base_uri": "https://localhost:8080/",
          "height": 1686
        },
        "outputId": "7fc9ea0f-7c46-49af-a5cf-72d2af438fd3"
      },
      "source": [
        "!pip install deepaugment"
      ],
      "execution_count": 2,
      "outputs": [
        {
          "output_type": "stream",
          "text": [
            "Collecting deepaugment\n",
            "  Downloading https://files.pythonhosted.org/packages/99/f9/40211d827039df475091639c6aded9a1786849f898b9c619e24c15efc82a/deepaugment-1.1.2-py2.py3-none-any.whl\n",
            "Collecting imgaug==0.2.7 (from deepaugment)\n",
            "\u001b[?25l  Downloading https://files.pythonhosted.org/packages/af/fc/c56a7da8c23122b7c5325b941850013880a7a93c21dc95e2b1ecd4750108/imgaug-0.2.7-py3-none-any.whl (644kB)\n",
            "\u001b[K     |████████████████████████████████| 645kB 7.8MB/s \n",
            "\u001b[?25hRequirement already satisfied: keras==2.2.4 in /usr/local/lib/python3.6/dist-packages (from deepaugment) (2.2.4)\n",
            "Collecting setuptools==40.6.3 (from deepaugment)\n",
            "\u001b[?25l  Downloading https://files.pythonhosted.org/packages/37/06/754589caf971b0d2d48f151c2586f62902d93dc908e2fd9b9b9f6aa3c9dd/setuptools-40.6.3-py2.py3-none-any.whl (573kB)\n",
            "\u001b[K     |████████████████████████████████| 573kB 51.1MB/s \n",
            "\u001b[?25hCollecting keras-applications==1.0.6 (from deepaugment)\n",
            "\u001b[?25l  Downloading https://files.pythonhosted.org/packages/3f/c4/2ff40221029f7098d58f8d7fb99b97e8100f3293f9856f0fb5834bef100b/Keras_Applications-1.0.6-py2.py3-none-any.whl (44kB)\n",
            "\u001b[K     |████████████████████████████████| 51kB 25.9MB/s \n",
            "\u001b[?25hCollecting pandas==0.23.4 (from deepaugment)\n",
            "\u001b[?25l  Downloading https://files.pythonhosted.org/packages/e1/d8/feeb346d41f181e83fba45224ab14a8d8af019b48af742e047f3845d8cff/pandas-0.23.4-cp36-cp36m-manylinux1_x86_64.whl (8.9MB)\n",
            "\u001b[K     |████████████████████████████████| 8.9MB 50.4MB/s \n",
            "\u001b[?25hCollecting numpy==1.15.4 (from deepaugment)\n",
            "\u001b[?25l  Downloading https://files.pythonhosted.org/packages/ff/7f/9d804d2348471c67a7d8b5f84f9bc59fd1cefa148986f2b74552f8573555/numpy-1.15.4-cp36-cp36m-manylinux1_x86_64.whl (13.9MB)\n",
            "\u001b[K     |████████████████████████████████| 13.9MB 40.6MB/s \n",
            "\u001b[?25hRequirement already satisfied: opencv-contrib-python in /usr/local/lib/python3.6/dist-packages (from deepaugment) (3.4.3.18)\n",
            "Collecting scikit-optimize==0.5.2 (from deepaugment)\n",
            "\u001b[?25l  Downloading https://files.pythonhosted.org/packages/f4/44/60f82c97d1caa98752c7da2c1681cab5c7a390a0fdd3a55fac672b321cac/scikit_optimize-0.5.2-py2.py3-none-any.whl (74kB)\n",
            "\u001b[K     |████████████████████████████████| 81kB 34.2MB/s \n",
            "\u001b[?25hRequirement already satisfied: click==7.0 in /usr/local/lib/python3.6/dist-packages (from deepaugment) (7.0)\n",
            "Collecting tensorflow==1.12.0 (from deepaugment)\n",
            "\u001b[?25l  Downloading https://files.pythonhosted.org/packages/22/cc/ca70b78087015d21c5f3f93694107f34ebccb3be9624385a911d4b52ecef/tensorflow-1.12.0-cp36-cp36m-manylinux1_x86_64.whl (83.1MB)\n",
            "\u001b[K     |████████████████████████████████| 83.1MB 51.4MB/s \n",
            "\u001b[?25hCollecting matplotlib==3.0.2 (from deepaugment)\n",
            "\u001b[?25l  Downloading https://files.pythonhosted.org/packages/71/07/16d781df15be30df4acfd536c479268f1208b2dfbc91e9ca5d92c9caf673/matplotlib-3.0.2-cp36-cp36m-manylinux1_x86_64.whl (12.9MB)\n",
            "\u001b[K     |████████████████████████████████| 12.9MB 32.2MB/s \n",
            "\u001b[?25hRequirement already satisfied: imageio in /usr/local/lib/python3.6/dist-packages (from imgaug==0.2.7->deepaugment) (2.4.1)\n",
            "Requirement already satisfied: scipy in /usr/local/lib/python3.6/dist-packages (from imgaug==0.2.7->deepaugment) (1.2.1)\n",
            "Requirement already satisfied: Shapely in /usr/local/lib/python3.6/dist-packages (from imgaug==0.2.7->deepaugment) (1.6.4.post2)\n",
            "Requirement already satisfied: six in /usr/local/lib/python3.6/dist-packages (from imgaug==0.2.7->deepaugment) (1.12.0)\n",
            "Requirement already satisfied: Pillow in /usr/local/lib/python3.6/dist-packages (from imgaug==0.2.7->deepaugment) (4.3.0)\n",
            "Requirement already satisfied: scikit-image>=0.11.0 in /usr/local/lib/python3.6/dist-packages (from imgaug==0.2.7->deepaugment) (0.14.2)\n",
            "Requirement already satisfied: keras-preprocessing>=1.0.5 in /usr/local/lib/python3.6/dist-packages (from keras==2.2.4->deepaugment) (1.0.9)\n",
            "Requirement already satisfied: pyyaml in /usr/local/lib/python3.6/dist-packages (from keras==2.2.4->deepaugment) (3.13)\n",
            "Requirement already satisfied: h5py in /usr/local/lib/python3.6/dist-packages (from keras==2.2.4->deepaugment) (2.8.0)\n",
            "Requirement already satisfied: python-dateutil>=2.5.0 in /usr/local/lib/python3.6/dist-packages (from pandas==0.23.4->deepaugment) (2.5.3)\n",
            "Requirement already satisfied: pytz>=2011k in /usr/local/lib/python3.6/dist-packages (from pandas==0.23.4->deepaugment) (2018.9)\n",
            "Requirement already satisfied: scikit-learn>=0.19.1 in /usr/local/lib/python3.6/dist-packages (from scikit-optimize==0.5.2->deepaugment) (0.20.3)\n",
            "Requirement already satisfied: grpcio>=1.8.6 in /usr/local/lib/python3.6/dist-packages (from tensorflow==1.12.0->deepaugment) (1.15.0)\n",
            "Requirement already satisfied: termcolor>=1.1.0 in /usr/local/lib/python3.6/dist-packages (from tensorflow==1.12.0->deepaugment) (1.1.0)\n",
            "Requirement already satisfied: gast>=0.2.0 in /usr/local/lib/python3.6/dist-packages (from tensorflow==1.12.0->deepaugment) (0.2.2)\n",
            "Requirement already satisfied: wheel>=0.26 in /usr/local/lib/python3.6/dist-packages (from tensorflow==1.12.0->deepaugment) (0.33.4)\n",
            "Requirement already satisfied: absl-py>=0.1.6 in /usr/local/lib/python3.6/dist-packages (from tensorflow==1.12.0->deepaugment) (0.7.1)\n",
            "Collecting tensorboard<1.13.0,>=1.12.0 (from tensorflow==1.12.0->deepaugment)\n",
            "\u001b[?25l  Downloading https://files.pythonhosted.org/packages/07/53/8d32ce9471c18f8d99028b7cef2e5b39ea8765bd7ef250ca05b490880971/tensorboard-1.12.2-py3-none-any.whl (3.0MB)\n",
            "\u001b[K     |████████████████████████████████| 3.1MB 32.2MB/s \n",
            "\u001b[?25hRequirement already satisfied: astor>=0.6.0 in /usr/local/lib/python3.6/dist-packages (from tensorflow==1.12.0->deepaugment) (0.7.1)\n",
            "Requirement already satisfied: protobuf>=3.6.1 in /usr/local/lib/python3.6/dist-packages (from tensorflow==1.12.0->deepaugment) (3.7.1)\n",
            "Requirement already satisfied: cycler>=0.10 in /usr/local/lib/python3.6/dist-packages (from matplotlib==3.0.2->deepaugment) (0.10.0)\n",
            "Requirement already satisfied: pyparsing!=2.0.4,!=2.1.2,!=2.1.6,>=2.0.1 in /usr/local/lib/python3.6/dist-packages (from matplotlib==3.0.2->deepaugment) (2.4.0)\n",
            "Requirement already satisfied: kiwisolver>=1.0.1 in /usr/local/lib/python3.6/dist-packages (from matplotlib==3.0.2->deepaugment) (1.1.0)\n",
            "Requirement already satisfied: olefile in /usr/local/lib/python3.6/dist-packages (from Pillow->imgaug==0.2.7->deepaugment) (0.46)\n",
            "Requirement already satisfied: PyWavelets>=0.4.0 in /usr/local/lib/python3.6/dist-packages (from scikit-image>=0.11.0->imgaug==0.2.7->deepaugment) (1.0.3)\n",
            "Requirement already satisfied: dask[array]>=1.0.0 in /usr/local/lib/python3.6/dist-packages (from scikit-image>=0.11.0->imgaug==0.2.7->deepaugment) (1.1.5)\n",
            "Requirement already satisfied: networkx>=1.8 in /usr/local/lib/python3.6/dist-packages (from scikit-image>=0.11.0->imgaug==0.2.7->deepaugment) (2.3)\n",
            "Requirement already satisfied: cloudpickle>=0.2.1 in /usr/local/lib/python3.6/dist-packages (from scikit-image>=0.11.0->imgaug==0.2.7->deepaugment) (0.6.1)\n",
            "Requirement already satisfied: markdown>=2.6.8 in /usr/local/lib/python3.6/dist-packages (from tensorboard<1.13.0,>=1.12.0->tensorflow==1.12.0->deepaugment) (3.1)\n",
            "Requirement already satisfied: werkzeug>=0.11.10 in /usr/local/lib/python3.6/dist-packages (from tensorboard<1.13.0,>=1.12.0->tensorflow==1.12.0->deepaugment) (0.15.2)\n",
            "Requirement already satisfied: toolz>=0.7.3; extra == \"array\" in /usr/local/lib/python3.6/dist-packages (from dask[array]>=1.0.0->scikit-image>=0.11.0->imgaug==0.2.7->deepaugment) (0.9.0)\n",
            "Requirement already satisfied: decorator>=4.3.0 in /usr/local/lib/python3.6/dist-packages (from networkx>=1.8->scikit-image>=0.11.0->imgaug==0.2.7->deepaugment) (4.4.0)\n",
            "\u001b[31mERROR: google-colab 1.0.0 has requirement pandas~=0.24.0, but you'll have pandas 0.23.4 which is incompatible.\u001b[0m\n",
            "\u001b[31mERROR: datascience 0.10.6 has requirement folium==0.2.1, but you'll have folium 0.8.3 which is incompatible.\u001b[0m\n",
            "\u001b[31mERROR: albumentations 0.1.12 has requirement imgaug<0.2.7,>=0.2.5, but you'll have imgaug 0.2.7 which is incompatible.\u001b[0m\n",
            "Installing collected packages: numpy, matplotlib, imgaug, setuptools, keras-applications, pandas, scikit-optimize, tensorboard, tensorflow, deepaugment\n",
            "  Found existing installation: numpy 1.16.3\n",
            "    Uninstalling numpy-1.16.3:\n",
            "      Successfully uninstalled numpy-1.16.3\n",
            "  Found existing installation: matplotlib 3.0.3\n",
            "    Uninstalling matplotlib-3.0.3:\n",
            "      Successfully uninstalled matplotlib-3.0.3\n",
            "  Found existing installation: imgaug 0.2.9\n",
            "    Uninstalling imgaug-0.2.9:\n",
            "      Successfully uninstalled imgaug-0.2.9\n",
            "  Found existing installation: setuptools 41.0.1\n",
            "    Uninstalling setuptools-41.0.1:\n",
            "      Successfully uninstalled setuptools-41.0.1\n",
            "  Found existing installation: Keras-Applications 1.0.7\n",
            "    Uninstalling Keras-Applications-1.0.7:\n",
            "      Successfully uninstalled Keras-Applications-1.0.7\n",
            "  Found existing installation: pandas 0.24.2\n",
            "    Uninstalling pandas-0.24.2:\n",
            "      Successfully uninstalled pandas-0.24.2\n",
            "  Found existing installation: tensorboard 1.13.1\n",
            "    Uninstalling tensorboard-1.13.1:\n",
            "      Successfully uninstalled tensorboard-1.13.1\n",
            "  Found existing installation: tensorflow 1.13.1\n",
            "    Uninstalling tensorflow-1.13.1:\n",
            "      Successfully uninstalled tensorflow-1.13.1\n",
            "Successfully installed deepaugment-1.1.2 imgaug-0.2.7 keras-applications-1.0.6 matplotlib-3.0.2 numpy-1.15.4 pandas-0.23.4 scikit-optimize-0.5.2 setuptools-40.6.3 tensorboard-1.12.2 tensorflow-1.12.0\n"
          ],
          "name": "stdout"
        },
        {
          "output_type": "display_data",
          "data": {
            "application/vnd.colab-display-data+json": {
              "pip_warning": {
                "packages": [
                  "matplotlib",
                  "mpl_toolkits",
                  "numpy",
                  "pandas",
                  "pkg_resources"
                ]
              }
            }
          },
          "metadata": {
            "tags": []
          }
        }
      ]
    },
    {
      "cell_type": "code",
      "metadata": {
        "id": "okBbQiFc9WZQ",
        "colab_type": "code",
        "outputId": "c7c610e6-2104-48f8-aaf8-69f2f49cf287",
        "colab": {
          "base_uri": "https://localhost:8080/",
          "height": 1363
        }
      },
      "source": [
        "!pip uninstall tensorflow tensorflow-estimator tensorboard tensorflow-hub\n",
        "!pip install tensorflow-gpu==1.12\n",
        "!apt-get install python3-pydot graphviz"
      ],
      "execution_count": 1,
      "outputs": [
        {
          "output_type": "stream",
          "text": [
            "Uninstalling tensorflow-1.12.0:\n",
            "  Would remove:\n",
            "    /usr/local/bin/freeze_graph\n",
            "    /usr/local/bin/saved_model_cli\n",
            "    /usr/local/bin/tensorboard\n",
            "    /usr/local/bin/tflite_convert\n",
            "    /usr/local/bin/toco\n",
            "    /usr/local/bin/toco_from_protos\n",
            "    /usr/local/lib/python3.6/dist-packages/tensorflow-1.12.0.dist-info/*\n",
            "    /usr/local/lib/python3.6/dist-packages/tensorflow/*\n",
            "Proceed (y/n)? y\n",
            "  Successfully uninstalled tensorflow-1.12.0\n",
            "Uninstalling tensorflow-estimator-1.13.0:\n",
            "  Would remove:\n",
            "    /usr/local/lib/python3.6/dist-packages/tensorflow_estimator-1.13.0.dist-info/*\n",
            "    /usr/local/lib/python3.6/dist-packages/tensorflow_estimator/*\n",
            "Proceed (y/n)? y\n",
            "  Successfully uninstalled tensorflow-estimator-1.13.0\n",
            "Uninstalling tensorboard-1.12.2:\n",
            "  Would remove:\n",
            "    /usr/local/lib/python3.6/dist-packages/tensorboard-1.12.2.dist-info/*\n",
            "    /usr/local/lib/python3.6/dist-packages/tensorboard/*\n",
            "Proceed (y/n)? y\n",
            "  Successfully uninstalled tensorboard-1.12.2\n",
            "Uninstalling tensorflow-hub-0.4.0:\n",
            "  Would remove:\n",
            "    /usr/local/lib/python3.6/dist-packages/tensorflow_hub-0.4.0.dist-info/*\n",
            "    /usr/local/lib/python3.6/dist-packages/tensorflow_hub/*\n",
            "Proceed (y/n)? y\n",
            "  Successfully uninstalled tensorflow-hub-0.4.0\n",
            "Collecting tensorflow-gpu==1.12\n",
            "\u001b[?25l  Downloading https://files.pythonhosted.org/packages/55/7e/bec4d62e9dc95e828922c6cec38acd9461af8abe749f7c9def25ec4b2fdb/tensorflow_gpu-1.12.0-cp36-cp36m-manylinux1_x86_64.whl (281.7MB)\n",
            "\u001b[K     |████████████████████████████████| 281.7MB 89kB/s \n",
            "\u001b[?25hRequirement already satisfied: gast>=0.2.0 in /usr/local/lib/python3.6/dist-packages (from tensorflow-gpu==1.12) (0.2.2)\n",
            "Requirement already satisfied: six>=1.10.0 in /usr/local/lib/python3.6/dist-packages (from tensorflow-gpu==1.12) (1.12.0)\n",
            "Requirement already satisfied: termcolor>=1.1.0 in /usr/local/lib/python3.6/dist-packages (from tensorflow-gpu==1.12) (1.1.0)\n",
            "Requirement already satisfied: numpy>=1.13.3 in /usr/local/lib/python3.6/dist-packages (from tensorflow-gpu==1.12) (1.15.4)\n",
            "Collecting tensorboard<1.13.0,>=1.12.0 (from tensorflow-gpu==1.12)\n",
            "  Using cached https://files.pythonhosted.org/packages/07/53/8d32ce9471c18f8d99028b7cef2e5b39ea8765bd7ef250ca05b490880971/tensorboard-1.12.2-py3-none-any.whl\n",
            "Requirement already satisfied: keras-applications>=1.0.6 in /usr/local/lib/python3.6/dist-packages (from tensorflow-gpu==1.12) (1.0.6)\n",
            "Requirement already satisfied: absl-py>=0.1.6 in /usr/local/lib/python3.6/dist-packages (from tensorflow-gpu==1.12) (0.7.1)\n",
            "Requirement already satisfied: astor>=0.6.0 in /usr/local/lib/python3.6/dist-packages (from tensorflow-gpu==1.12) (0.7.1)\n",
            "Requirement already satisfied: wheel>=0.26 in /usr/local/lib/python3.6/dist-packages (from tensorflow-gpu==1.12) (0.33.4)\n",
            "Requirement already satisfied: protobuf>=3.6.1 in /usr/local/lib/python3.6/dist-packages (from tensorflow-gpu==1.12) (3.7.1)\n",
            "Requirement already satisfied: grpcio>=1.8.6 in /usr/local/lib/python3.6/dist-packages (from tensorflow-gpu==1.12) (1.15.0)\n",
            "Requirement already satisfied: keras-preprocessing>=1.0.5 in /usr/local/lib/python3.6/dist-packages (from tensorflow-gpu==1.12) (1.0.9)\n",
            "Requirement already satisfied: werkzeug>=0.11.10 in /usr/local/lib/python3.6/dist-packages (from tensorboard<1.13.0,>=1.12.0->tensorflow-gpu==1.12) (0.15.2)\n",
            "Requirement already satisfied: markdown>=2.6.8 in /usr/local/lib/python3.6/dist-packages (from tensorboard<1.13.0,>=1.12.0->tensorflow-gpu==1.12) (3.1)\n",
            "Requirement already satisfied: h5py in /usr/local/lib/python3.6/dist-packages (from keras-applications>=1.0.6->tensorflow-gpu==1.12) (2.8.0)\n",
            "Requirement already satisfied: setuptools in /usr/local/lib/python3.6/dist-packages (from protobuf>=3.6.1->tensorflow-gpu==1.12) (40.6.3)\n",
            "Installing collected packages: tensorboard, tensorflow-gpu\n",
            "Successfully installed tensorboard-1.12.2 tensorflow-gpu-1.12.0\n",
            "Reading package lists... Done\n",
            "Building dependency tree       \n",
            "Reading state information... Done\n",
            "graphviz is already the newest version (2.40.1-2).\n",
            "The following package was automatically installed and is no longer required:\n",
            "  libnvidia-common-410\n",
            "Use 'apt autoremove' to remove it.\n",
            "Suggested packages:\n",
            "  python-pyparsing-doc\n",
            "The following NEW packages will be installed:\n",
            "  python3-pydot python3-pyparsing\n",
            "0 upgraded, 2 newly installed, 0 to remove and 49 not upgraded.\n",
            "Need to get 71.9 kB of archives.\n",
            "After this operation, 347 kB of additional disk space will be used.\n",
            "Get:1 http://archive.ubuntu.com/ubuntu bionic/main amd64 python3-pyparsing all 2.2.0+dfsg1-2 [52.2 kB]\n",
            "Get:2 http://archive.ubuntu.com/ubuntu bionic/universe amd64 python3-pydot all 1.2.3-1 [19.7 kB]\n",
            "Fetched 71.9 kB in 1s (127 kB/s)\n",
            "Selecting previously unselected package python3-pyparsing.\n",
            "(Reading database ... 140126 files and directories currently installed.)\n",
            "Preparing to unpack .../python3-pyparsing_2.2.0+dfsg1-2_all.deb ...\n",
            "Unpacking python3-pyparsing (2.2.0+dfsg1-2) ...\n",
            "Selecting previously unselected package python3-pydot.\n",
            "Preparing to unpack .../python3-pydot_1.2.3-1_all.deb ...\n",
            "Unpacking python3-pydot (1.2.3-1) ...\n",
            "Setting up python3-pyparsing (2.2.0+dfsg1-2) ...\n",
            "Setting up python3-pydot (1.2.3-1) ...\n"
          ],
          "name": "stdout"
        }
      ]
    },
    {
      "cell_type": "code",
      "metadata": {
        "id": "vZepHNAhvWDT",
        "colab_type": "code",
        "outputId": "4231e8c6-2b92-4fa1-a6d8-95c209c45a0f",
        "colab": {
          "base_uri": "https://localhost:8080/",
          "height": 309
        }
      },
      "source": [
        "!pip install --upgrade pillow"
      ],
      "execution_count": 2,
      "outputs": [
        {
          "output_type": "stream",
          "text": [
            "Collecting pillow\n",
            "\u001b[?25l  Downloading https://files.pythonhosted.org/packages/d2/c2/f84b1e57416755e967236468dcfb0fad7fd911f707185efc4ba8834a1a94/Pillow-6.0.0-cp36-cp36m-manylinux1_x86_64.whl (2.0MB)\n",
            "\u001b[K     |████████████████████████████████| 2.0MB 2.8MB/s \n",
            "\u001b[31mERROR: magenta 0.3.19 requires tensorflow>=1.12.0, which is not installed.\u001b[0m\n",
            "\u001b[31mERROR: deepaugment 1.1.2 requires tensorflow==1.12.0, which is not installed.\u001b[0m\n",
            "\u001b[31mERROR: albumentations 0.1.12 has requirement imgaug<0.2.7,>=0.2.5, but you'll have imgaug 0.2.7 which is incompatible.\u001b[0m\n",
            "\u001b[?25hInstalling collected packages: pillow\n",
            "  Found existing installation: Pillow 4.3.0\n",
            "    Uninstalling Pillow-4.3.0:\n",
            "      Successfully uninstalled Pillow-4.3.0\n",
            "Successfully installed pillow-6.0.0\n"
          ],
          "name": "stdout"
        },
        {
          "output_type": "display_data",
          "data": {
            "application/vnd.colab-display-data+json": {
              "pip_warning": {
                "packages": [
                  "PIL"
                ]
              }
            }
          },
          "metadata": {
            "tags": []
          }
        }
      ]
    },
    {
      "cell_type": "code",
      "metadata": {
        "ExecuteTime": {
          "end_time": "2019-04-28T13:28:56.319094Z",
          "start_time": "2019-04-28T13:27:58.300607Z"
        },
        "id": "CPpOALnJN3Ou",
        "colab_type": "code",
        "colab": {
          "base_uri": "https://localhost:8080/",
          "height": 34
        },
        "outputId": "2d3cc2bf-e1be-4c98-c658-5ead1f75927e"
      },
      "source": [
        "from deepaugment.deepaugment import DeepAugment\n",
        "from keras.datasets import cifar10\n",
        "from keras.preprocessing.image import ImageDataGenerator\n",
        "from keras.models import Sequential, load_model\n",
        "from keras.layers import Dense, Dropout, Activation, Flatten\n",
        "from keras.layers import Conv2D, MaxPooling2D\n",
        "from keras.optimizers import SGD\n",
        "from keras.constraints import maxnorm\n",
        "from keras.utils import np_utils\n",
        "from keras.layers.noise import GaussianNoise\n",
        "import pandas as pd\n",
        "import matplotlib.pyplot as plt\n",
        "import time, pickle\n",
        "import tensorflow as tf\n",
        "from keras import backend as K\n",
        "import numpy as np\n",
        "from pylab import rcParams\n",
        "rcParams['figure.figsize'] = 20,20\n",
        "from keras import optimizers\n",
        "from augmenter import transform, augment_by_policy\n",
        "from sklearn.metrics import confusion_matrix\n",
        "import seaborn as sn\n",
        "import PIL\n",
        "from keras.models import load_model\n",
        "import os\n",
        "from google.colab import files\n",
        "\n",
        "# From autoaugment github https://github.com/DeepVoltaire/AutoAugment\n",
        "from autoaugment import CIFAR10Policy\n",
        "\n",
        "%matplotlib inline"
      ],
      "execution_count": 1,
      "outputs": [
        {
          "output_type": "stream",
          "text": [
            "Using TensorFlow backend.\n"
          ],
          "name": "stderr"
        }
      ]
    },
    {
      "cell_type": "code",
      "metadata": {
        "ExecuteTime": {
          "end_time": "2019-04-28T13:32:06.605935Z",
          "start_time": "2019-04-28T13:32:06.231152Z"
        },
        "colab_type": "code",
        "id": "3MC3sPzURFoP",
        "colab": {
          "base_uri": "https://localhost:8080/",
          "height": 544
        },
        "outputId": "3f9f111f-38ef-4b05-8837-027d9d85ac39"
      },
      "source": [
        "# Checking if tensorflow is actually using the GPU\n",
        "from tensorflow.python.client import device_lib\n",
        "print(device_lib.list_local_devices())"
      ],
      "execution_count": 2,
      "outputs": [
        {
          "output_type": "stream",
          "text": [
            "[name: \"/device:CPU:0\"\n",
            "device_type: \"CPU\"\n",
            "memory_limit: 268435456\n",
            "locality {\n",
            "}\n",
            "incarnation: 2489403779624177911\n",
            ", name: \"/device:XLA_GPU:0\"\n",
            "device_type: \"XLA_GPU\"\n",
            "memory_limit: 17179869184\n",
            "locality {\n",
            "}\n",
            "incarnation: 7193703545335093514\n",
            "physical_device_desc: \"device: XLA_GPU device\"\n",
            ", name: \"/device:XLA_CPU:0\"\n",
            "device_type: \"XLA_CPU\"\n",
            "memory_limit: 17179869184\n",
            "locality {\n",
            "}\n",
            "incarnation: 15487134272052723211\n",
            "physical_device_desc: \"device: XLA_CPU device\"\n",
            ", name: \"/device:GPU:0\"\n",
            "device_type: \"GPU\"\n",
            "memory_limit: 14808662016\n",
            "locality {\n",
            "  bus_id: 1\n",
            "  links {\n",
            "  }\n",
            "}\n",
            "incarnation: 12331350221912026519\n",
            "physical_device_desc: \"device: 0, name: Tesla T4, pci bus id: 0000:00:04.0, compute capability: 7.5\"\n",
            "]\n"
          ],
          "name": "stdout"
        }
      ]
    },
    {
      "cell_type": "code",
      "metadata": {
        "ExecuteTime": {
          "end_time": "2019-04-28T11:07:58.660367Z",
          "start_time": "2019-04-28T11:07:58.622468Z"
        },
        "scrolled": true,
        "id": "eE5sobMeN3O4",
        "colab_type": "code",
        "colab": {}
      },
      "source": [
        "config  = tf.ConfigProto()\n",
        "config.gpu_options.allow_growth =True\n",
        "sess = tf.Session(config=config)"
      ],
      "execution_count": 0,
      "outputs": []
    },
    {
      "cell_type": "code",
      "metadata": {
        "id": "Jsn6hWjEFX3S",
        "colab_type": "code",
        "outputId": "23fe749f-a857-4f8e-d37b-02fddb89da0c",
        "colab": {
          "base_uri": "https://localhost:8080/",
          "height": 289
        }
      },
      "source": [
        "# Checking  the gpus we are using\n",
        "!nvidia-smi"
      ],
      "execution_count": 4,
      "outputs": [
        {
          "output_type": "stream",
          "text": [
            "Wed May 15 08:44:56 2019       \n",
            "+-----------------------------------------------------------------------------+\n",
            "| NVIDIA-SMI 418.56       Driver Version: 410.79       CUDA Version: 10.0     |\n",
            "|-------------------------------+----------------------+----------------------+\n",
            "| GPU  Name        Persistence-M| Bus-Id        Disp.A | Volatile Uncorr. ECC |\n",
            "| Fan  Temp  Perf  Pwr:Usage/Cap|         Memory-Usage | GPU-Util  Compute M. |\n",
            "|===============================+======================+======================|\n",
            "|   0  Tesla T4            Off  | 00000000:00:04.0 Off |                    0 |\n",
            "| N/A   53C    P0    28W /  70W |    213MiB / 15079MiB |      0%      Default |\n",
            "+-------------------------------+----------------------+----------------------+\n",
            "                                                                               \n",
            "+-----------------------------------------------------------------------------+\n",
            "| Processes:                                                       GPU Memory |\n",
            "|  GPU       PID   Type   Process name                             Usage      |\n",
            "|=============================================================================|\n",
            "+-----------------------------------------------------------------------------+\n"
          ],
          "name": "stdout"
        }
      ]
    },
    {
      "cell_type": "markdown",
      "metadata": {
        "id": "VetKm0oOT4T4",
        "colab_type": "text"
      },
      "source": [
        "# Functions"
      ]
    },
    {
      "cell_type": "code",
      "metadata": {
        "ExecuteTime": {
          "end_time": "2019-04-28T12:20:31.354139Z",
          "start_time": "2019-04-28T12:20:30.371698Z"
        },
        "id": "3PPU1kHWN3O_",
        "colab_type": "code",
        "colab": {}
      },
      "source": [
        "# INITIALAZATION OF FUNCTIONS\n",
        "\n",
        "def train_test_split(n_classes = 2, augment= False, length_dataset = 2000, transformed = False):\n",
        "  '''This function splits the dataset in different ways, we can select the number of classes, \n",
        "  the length of the dataset and specify if the next step is to perform auto augmentation or not. \n",
        "  augment = True indicates that there is no need to convert y to categorical because the library\n",
        "  transforms it automatically.'''\n",
        "  (x_train, y_train), (x_test, y_test) = cifar10.load_data()\n",
        "\n",
        "  # Selecting only n_classes\n",
        "  new_x_train = []\n",
        "  new_y_train = []\n",
        "  new_x_test = []\n",
        "  new_y_test = []\n",
        "  length_d = 0\n",
        "  \n",
        "  for i in range(len(x_train)):\n",
        "    if y_train[i] in list(range(n_classes)):\n",
        "      new_x_train.append(x_train[i].tolist())\n",
        "      new_y_train.append(y_train[i].tolist())\n",
        "      length_d += 1\n",
        "    if length_d == length_dataset:\n",
        "      break\n",
        "      \n",
        "  length_test = 0.4*length_dataset\n",
        "  length_d = 0\n",
        "  for i in range(len(x_test)):\n",
        "    if y_test[i] in list(range(n_classes)):\n",
        "      new_x_test.append(x_test[i].tolist())\n",
        "      new_y_test.append(y_test[i].tolist())\n",
        "      length_d += 1\n",
        "    if length_d == length_test:\n",
        "      break\n",
        "  \n",
        "  \n",
        "  y_train = np.asarray(new_y_train)\n",
        "  x_train = np.asarray(new_x_train)\n",
        "  y_test = np.asarray(new_y_test)\n",
        "  x_test = np.asarray(new_x_test)\n",
        "\n",
        "  \n",
        "  # Using Auto_Augment policies from Google\n",
        "  if transformed:\n",
        "    policy = CIFAR10Policy()\n",
        "    for i in range(len(x_train)):\n",
        "      img = PIL.Image.fromarray(x_train[i].astype(np.uint8))\n",
        "      image = policy(img)\n",
        "      x_train = np.append(x_train, [np.asarray(image).tolist()], axis =0)\n",
        "      y_train = np.append(y_train, [y_train[i].tolist()], axis =0)    \n",
        "  \n",
        "  y_train = y_train.reshape(y_train.shape[0]) \n",
        "  y_test = y_test.reshape(y_test.shape[0])\n",
        "\n",
        "  x_train = x_train.astype('float32')\n",
        "  x_test = x_test.astype('float32')\n",
        "  x_train /= 255\n",
        "  x_test /= 255\n",
        "\n",
        "  if not augment:\n",
        "    y_train = np_utils.to_categorical(y_train, n_classes)\n",
        "    y_test = np_utils.to_categorical(y_test, n_classes)\n",
        "    \n",
        "  unique, counts = np.unique(y_train, return_counts=True)\n",
        "  print('CLASSES SPLIT CONTAINS:\\n\\\n",
        "  {} total samples\\n\\\n",
        "  With {} classes \\n\\\n",
        "  That have the following distribution: {}'.format(len(x_train),len(counts),counts))\n",
        "  return (x_train, y_train),(x_test, y_test)\n",
        "\n",
        "class_name = {\n",
        "    0: 'airplane',\n",
        "    1: 'automobile',\n",
        "    2: 'bird',\n",
        "    3: 'cat',\n",
        "    4: 'deer',\n",
        "    5: 'dog',\n",
        "    6: 'frog',\n",
        "    7: 'horse',\n",
        "    8: 'ship',\n",
        "    9: 'truck',\n",
        "}\n",
        "\n",
        "\n",
        "def draw_img(array, clas, title=True):\n",
        "  '''This function shows an image from a numpy array and plots its class as a title'''\n",
        "  im = array\n",
        "  c = clas\n",
        "  plt.imshow(im)\n",
        "  if title:\n",
        "    plt.title(\"Class {}: {}\".format(c, class_name[c]))\n",
        "  plt.axis('off')\n",
        "\n",
        "def draw_sample(X, y, n, rows=4, cols=4, imfile=None, fontsize=12, augment= False):\n",
        "  '''This function draws a sample of the data set'''\n",
        "  fig = plt.figure()\n",
        "  for i in range(0, rows*cols):\n",
        "      ax = fig.add_subplot(rows, cols, i+1)\n",
        "      im = X[n+i].reshape(32,32,3)\n",
        "      ax.imshow(im, cmap='gnuplot2')\n",
        "      if augment == False:\n",
        "        ax.set_title(\"{}\".format(class_name[np.where(y[n+i] == 1)[0][0]]), fontsize=fontsize)\n",
        "      else:\n",
        "        ax.set_title(\"{}\".format(class_name[y[n+i]]), fontsize=fontsize)\n",
        "\n",
        "      fig.tight_layout(pad=1)\n",
        "      ax.axis('off')\n",
        "  if imfile:\n",
        "      ax.savefig(imfile)\n",
        "        \n",
        "        \n",
        "def plotLosses(history):  \n",
        "  '''Plotting losses and accuracy of the training process of the neural network'''\n",
        "  plt.plot(history.history['loss'])\n",
        "  plt.plot(history.history['val_loss'])\n",
        "  plt.title('model loss')\n",
        "  plt.ylabel('loss')\n",
        "  plt.xlabel('epoch')\n",
        "  plt.legend(['train', 'validation'], loc='upper left')\n",
        "  plt.show()\n",
        "    \n",
        "# Showing policies in a picture\n",
        "\n",
        "def draw_policies_image(x, y, a,imfile=None, fontsize=12):\n",
        "  '''This function draws a picture with three applied policies'''\n",
        "  j=0\n",
        "  fig = plt.figure()\n",
        "  fig.suptitle(\"{}\".format(class_name[y]), fontsize=\"x-large\")\n",
        "  for i in range(0, 3):\n",
        "    l = transform(a[j], a[j+1], [x])\n",
        "    l = transform(a[j+2], a[j+3], [x])\n",
        "    l = np.array(l).reshape(32,32,3)\n",
        "    ax = fig.add_subplot(1, 3, i+1)\n",
        "    ax.imshow((l * 255).astype(np.uint8), cmap='gnuplot2')\n",
        "    ax.axis('off')\n",
        "    j += 4\n",
        "  if imfile:\n",
        "      fig.savefig(imfile)\n",
        "        \n",
        "def NN(n_classes = 2):\n",
        "  '''Creates a Convolutional Neural Network'''\n",
        "  model = Sequential()\n",
        "  model.add(Conv2D(32, (3, 3), padding=\"same\", input_shape=(32, 32, 3)))\n",
        "  model.add(Activation(\"relu\"))\n",
        "  model.add(Conv2D(32, (3, 3)))\n",
        "  model.add(Activation(\"relu\"))\n",
        "  model.add(MaxPooling2D(pool_size=(2, 2)))\n",
        "  model.add(Dropout(0.6))\n",
        "\n",
        "  model.add(Conv2D(64, (3, 3), padding=\"same\"))\n",
        "  model.add(Activation(\"relu\"))\n",
        "  model.add(Conv2D(64, (3, 3)))\n",
        "  model.add(Activation(\"relu\"))\n",
        "  model.add(MaxPooling2D(pool_size=(2, 2)))\n",
        "  model.add(Dropout(0.6))\n",
        "\n",
        "  model.add(Flatten())\n",
        "  model.add(Dense(512))\n",
        "  model.add(Activation(\"relu\"))\n",
        "  model.add(Dropout(0.5))\n",
        "  model.add(Dense(n_classes))\n",
        "  model.add(Activation(\"softmax\"))\n",
        "\n",
        "  optimizer = optimizers.RMSprop(lr=0.001, decay=1e-6)\n",
        "  # optimizer = optimizers.Adadelta(lr=1.0, rho=0.95, epsilon=None, decay=0.0)\n",
        "  model.compile(\n",
        "      optimizer=optimizer, loss=\"categorical_crossentropy\", metrics=[\"accuracy\"]\n",
        "  )\n",
        "  return(model)"
      ],
      "execution_count": 0,
      "outputs": []
    },
    {
      "cell_type": "markdown",
      "metadata": {
        "id": "wHEAmZv-Tgj3",
        "colab_type": "text"
      },
      "source": [
        "# In this section, we only show the trial process"
      ]
    },
    {
      "cell_type": "code",
      "metadata": {
        "ExecuteTime": {
          "end_time": "2019-04-28T11:07:54.556376Z",
          "start_time": "2019-04-28T11:06:51.928324Z"
        },
        "scrolled": true,
        "id": "3Ftbcq4gN3Pa",
        "colab_type": "code",
        "colab": {
          "base_uri": "https://localhost:8080/",
          "height": 2417
        },
        "outputId": "111a88ce-e02b-48c6-cc51-5f16ca9533f5"
      },
      "source": [
        "# my configuration\n",
        "my_config = {\n",
        "    \"model\": 'basiccnn',\n",
        "    \"method\": \"bayesian_optimization\",\n",
        "    \"train_set_size\": 100,\n",
        "    \"opt_samples\": 2,\n",
        "    \"opt_last_n_epochs\": 1,\n",
        "    \"opt_initial_points\": 10,\n",
        "    \"child_epochs\": 20,\n",
        "    \"child_first_train_epochs\": 0,\n",
        "    \"child_batch_size\": 64\n",
        "}\n",
        "(x_train, y_train), (x_test, y_test) = train_test_split(augment=True, length_dataset=500)\n",
        "deepaug = DeepAugment(images = x_train, labels = y_train, config = my_config)"
      ],
      "execution_count": 8,
      "outputs": [
        {
          "output_type": "stream",
          "text": [
            "Downloading data from https://www.cs.toronto.edu/~kriz/cifar-10-python.tar.gz\n",
            "170500096/170498071 [==============================] - 4s 0us/step\n",
            "CLASSES SPLIT CONTAINS:\n",
            "  500 total samples\n",
            "  With 2 classes \n",
            "  That have the following distribution: [256 244]\n",
            "Using 100 training images\n",
            "BasicCNN model built as child model.\n",
            " Model summary:\n",
            "_________________________________________________________________\n",
            "Layer (type)                 Output Shape              Param #   \n",
            "=================================================================\n",
            "conv2d_1 (Conv2D)            (None, 32, 32, 32)        896       \n",
            "_________________________________________________________________\n",
            "activation_1 (Activation)    (None, 32, 32, 32)        0         \n",
            "_________________________________________________________________\n",
            "conv2d_2 (Conv2D)            (None, 30, 30, 32)        9248      \n",
            "_________________________________________________________________\n",
            "activation_2 (Activation)    (None, 30, 30, 32)        0         \n",
            "_________________________________________________________________\n",
            "max_pooling2d_1 (MaxPooling2 (None, 15, 15, 32)        0         \n",
            "_________________________________________________________________\n",
            "dropout_1 (Dropout)          (None, 15, 15, 32)        0         \n",
            "_________________________________________________________________\n",
            "conv2d_3 (Conv2D)            (None, 15, 15, 64)        18496     \n",
            "_________________________________________________________________\n",
            "activation_3 (Activation)    (None, 15, 15, 64)        0         \n",
            "_________________________________________________________________\n",
            "conv2d_4 (Conv2D)            (None, 13, 13, 64)        36928     \n",
            "_________________________________________________________________\n",
            "activation_4 (Activation)    (None, 13, 13, 64)        0         \n",
            "_________________________________________________________________\n",
            "max_pooling2d_2 (MaxPooling2 (None, 6, 6, 64)          0         \n",
            "_________________________________________________________________\n",
            "dropout_2 (Dropout)          (None, 6, 6, 64)          0         \n",
            "_________________________________________________________________\n",
            "flatten_1 (Flatten)          (None, 2304)              0         \n",
            "_________________________________________________________________\n",
            "dense_1 (Dense)              (None, 512)               1180160   \n",
            "_________________________________________________________________\n",
            "activation_5 (Activation)    (None, 512)               0         \n",
            "_________________________________________________________________\n",
            "dropout_3 (Dropout)          (None, 512)               0         \n",
            "_________________________________________________________________\n",
            "dense_2 (Dense)              (None, 2)                 1026      \n",
            "_________________________________________________________________\n",
            "activation_6 (Activation)    (None, 2)                 0         \n",
            "=================================================================\n",
            "Total params: 1,246,754\n",
            "Trainable params: 1,246,754\n",
            "Non-trainable params: 0\n",
            "_________________________________________________________________\n",
            "None\n",
            "load_pre_augment_weights()'s runtime:  0.0523 sec.\n",
            "Train on 600 samples, validate on 400 samples\n",
            "Epoch 1/20\n",
            " - 7s - loss: 0.6944 - acc: 0.5167 - val_loss: 0.6971 - val_acc: 0.4750\n",
            "Epoch 2/20\n",
            " - 0s - loss: 0.6912 - acc: 0.5400 - val_loss: 0.6998 - val_acc: 0.4750\n",
            "Epoch 3/20\n",
            " - 0s - loss: 0.6914 - acc: 0.5400 - val_loss: 0.6987 - val_acc: 0.4750\n",
            "Epoch 4/20\n",
            " - 0s - loss: 0.6912 - acc: 0.5400 - val_loss: 0.6980 - val_acc: 0.4750\n",
            "Epoch 5/20\n",
            " - 0s - loss: 0.6909 - acc: 0.5400 - val_loss: 0.6977 - val_acc: 0.4750\n",
            "Epoch 6/20\n",
            " - 0s - loss: 0.6911 - acc: 0.5400 - val_loss: 0.6982 - val_acc: 0.4750\n",
            "Epoch 7/20\n",
            " - 0s - loss: 0.6905 - acc: 0.5400 - val_loss: 0.6981 - val_acc: 0.4750\n",
            "Epoch 8/20\n",
            " - 0s - loss: 0.6900 - acc: 0.5400 - val_loss: 0.6982 - val_acc: 0.4750\n",
            "Epoch 9/20\n",
            " - 0s - loss: 0.6901 - acc: 0.5400 - val_loss: 0.6977 - val_acc: 0.4750\n",
            "Epoch 10/20\n",
            " - 0s - loss: 0.6900 - acc: 0.5400 - val_loss: 0.6989 - val_acc: 0.4750\n",
            "Epoch 11/20\n",
            " - 0s - loss: 0.6901 - acc: 0.5400 - val_loss: 0.6999 - val_acc: 0.4750\n",
            "Epoch 12/20\n",
            " - 0s - loss: 0.6904 - acc: 0.5400 - val_loss: 0.7011 - val_acc: 0.4750\n",
            "Epoch 13/20\n",
            " - 0s - loss: 0.6899 - acc: 0.5400 - val_loss: 0.7021 - val_acc: 0.4750\n",
            "Epoch 14/20\n",
            " - 0s - loss: 0.6903 - acc: 0.5400 - val_loss: 0.6990 - val_acc: 0.4750\n",
            "Epoch 15/20\n",
            " - 0s - loss: 0.6906 - acc: 0.5400 - val_loss: 0.7012 - val_acc: 0.4750\n",
            "Epoch 16/20\n",
            " - 0s - loss: 0.6907 - acc: 0.5400 - val_loss: 0.7002 - val_acc: 0.4750\n",
            "Epoch 17/20\n",
            " - 0s - loss: 0.6897 - acc: 0.5400 - val_loss: 0.6988 - val_acc: 0.4750\n",
            "Epoch 18/20\n",
            " - 0s - loss: 0.6903 - acc: 0.5400 - val_loss: 0.7002 - val_acc: 0.4750\n",
            "Epoch 19/20\n",
            " - 0s - loss: 0.6906 - acc: 0.5400 - val_loss: 0.7010 - val_acc: 0.4750\n",
            "Epoch 20/20\n",
            " - 0s - loss: 0.6915 - acc: 0.5400 - val_loss: 0.7012 - val_acc: 0.4750\n",
            "fit()'s runtime:  9.3107 sec.\n",
            "load_pre_augment_weights()'s runtime:  0.012 sec.\n",
            "Train on 600 samples, validate on 400 samples\n",
            "Epoch 1/20\n",
            " - 0s - loss: 0.6933 - acc: 0.5300 - val_loss: 0.6942 - val_acc: 0.4750\n",
            "Epoch 2/20\n",
            " - 0s - loss: 0.6918 - acc: 0.5400 - val_loss: 0.6971 - val_acc: 0.4750\n",
            "Epoch 3/20\n",
            " - 0s - loss: 0.6915 - acc: 0.5400 - val_loss: 0.6987 - val_acc: 0.4750\n",
            "Epoch 4/20\n",
            " - 0s - loss: 0.6937 - acc: 0.5400 - val_loss: 0.6970 - val_acc: 0.4750\n",
            "Epoch 5/20\n",
            " - 0s - loss: 0.6911 - acc: 0.5400 - val_loss: 0.7018 - val_acc: 0.4750\n",
            "Epoch 6/20\n",
            " - 0s - loss: 0.6910 - acc: 0.5400 - val_loss: 0.6995 - val_acc: 0.4750\n",
            "Epoch 7/20\n",
            " - 0s - loss: 0.6924 - acc: 0.5400 - val_loss: 0.7024 - val_acc: 0.4750\n",
            "Epoch 8/20\n",
            " - 0s - loss: 0.6913 - acc: 0.5400 - val_loss: 0.6981 - val_acc: 0.4750\n",
            "Epoch 9/20\n",
            " - 0s - loss: 0.6896 - acc: 0.5400 - val_loss: 0.6954 - val_acc: 0.4750\n",
            "Epoch 10/20\n",
            " - 0s - loss: 0.6910 - acc: 0.5400 - val_loss: 0.6956 - val_acc: 0.4750\n",
            "Epoch 11/20\n",
            " - 0s - loss: 0.6912 - acc: 0.5400 - val_loss: 0.6995 - val_acc: 0.4750\n",
            "Epoch 12/20\n",
            " - 0s - loss: 0.6908 - acc: 0.5400 - val_loss: 0.6945 - val_acc: 0.4750\n",
            "Epoch 13/20\n",
            " - 0s - loss: 0.6894 - acc: 0.5400 - val_loss: 0.7033 - val_acc: 0.4750\n",
            "Epoch 14/20\n",
            " - 0s - loss: 0.6784 - acc: 0.5750 - val_loss: 0.6910 - val_acc: 0.5250\n",
            "Epoch 15/20\n",
            " - 0s - loss: 0.6708 - acc: 0.5667 - val_loss: 0.6917 - val_acc: 0.5250\n",
            "Epoch 16/20\n",
            " - 0s - loss: 0.6852 - acc: 0.5850 - val_loss: 0.6496 - val_acc: 0.6925\n",
            "Epoch 17/20\n",
            " - 0s - loss: 0.6539 - acc: 0.6417 - val_loss: 0.6207 - val_acc: 0.7475\n",
            "Epoch 18/20\n",
            " - 0s - loss: 0.6292 - acc: 0.6583 - val_loss: 0.6842 - val_acc: 0.5375\n",
            "Epoch 19/20\n",
            " - 0s - loss: 0.6216 - acc: 0.6867 - val_loss: 0.5484 - val_acc: 0.7475\n",
            "Epoch 20/20\n",
            " - 0s - loss: 0.5864 - acc: 0.6917 - val_loss: 0.9925 - val_acc: 0.5075\n",
            "fit()'s runtime:  1.9631 sec.\n",
            "0, 0.38874999999999993, ['rotate', 0.0, 'rotate', 0.0, 'rotate', 0.0, 'rotate', 0.0, 'rotate', 0.0, 'rotate', 0.0, 'rotate', 0.0, 'rotate', 0.0, 'rotate', 0.0, 'rotate', 0.0]\n"
          ],
          "name": "stdout"
        }
      ]
    },
    {
      "cell_type": "code",
      "metadata": {
        "id": "QyIsINl0Euog",
        "colab_type": "code",
        "colab": {}
      },
      "source": [
        "best_policies = deepaug.optimize(10)"
      ],
      "execution_count": 0,
      "outputs": []
    },
    {
      "cell_type": "code",
      "metadata": {
        "id": "BUkoR55PjvUf",
        "colab_type": "code",
        "colab": {}
      },
      "source": [
        "# Creating list of best policies to transform the data\n",
        "a = list(best_policies.iloc[0][1:-2])"
      ],
      "execution_count": 0,
      "outputs": []
    },
    {
      "cell_type": "code",
      "metadata": {
        "id": "xhNh158VskEE",
        "colab_type": "code",
        "colab": {}
      },
      "source": [
        "train = augment_by_policy(x_train, y_train, *a)"
      ],
      "execution_count": 0,
      "outputs": []
    },
    {
      "cell_type": "code",
      "metadata": {
        "id": "Ov_3-gp5zK5M",
        "colab_type": "code",
        "colab": {}
      },
      "source": [
        "draw_policies_image(train['X_train'][1], train['y_train'][1], a)"
      ],
      "execution_count": 0,
      "outputs": []
    },
    {
      "cell_type": "code",
      "metadata": {
        "id": "qKfG5E5zSbMJ",
        "colab_type": "code",
        "colab": {}
      },
      "source": [
        "%%capture\n",
        "model_aug = NN()\n",
        "model = NN()\n",
        "model_google = NN()\n",
        "\n",
        "y_train_aug = np_utils.to_categorical(train['y_train'], 2)\n",
        "y_train_cat = np_utils.to_categorical(y_train, 2)\n",
        "\n",
        "history_1 = model.fit(x_train, y_train_cat, batch_size=128, epochs=15, verbose=2, validation_split=0.1)\n",
        "history_2 = model_aug.fit(train['X_train'], y_train_aug, batch_size=128, epochs=15, verbose=2, validation_split=0.1)\n",
        "\n",
        "from autoaugment import CIFAR10Policy\n",
        "(x_train, y_train), (x_test, y_test) = train_test_split(length_dataset = 2000, transformed = True)\n",
        "history_3 = model_google.fit(x_train, y_train, batch_size=128, epochs=15, verbose=2, validation_split=0.1)"
      ],
      "execution_count": 0,
      "outputs": []
    },
    {
      "cell_type": "code",
      "metadata": {
        "id": "mOygp-hOy8Q_",
        "colab_type": "code",
        "outputId": "72d79c99-5eef-4ee9-df72-42993aa86f6e",
        "colab": {
          "base_uri": "https://localhost:8080/",
          "height": 902
        }
      },
      "source": [
        "print('NO AUGMENTATION')\n",
        "plotLosses(history_1)\n",
        "print('AUGMENTATION')\n",
        "plotLosses(history_2)\n",
        "print('AUGMENTATION GOOGLE')\n",
        "plotLosses(history_3)"
      ],
      "execution_count": 0,
      "outputs": [
        {
          "output_type": "stream",
          "text": [
            "NO AUGMENTATION\n"
          ],
          "name": "stdout"
        },
        {
          "output_type": "display_data",
          "data": {
            "image/png": "[encoded data removed]",
            "text/plain": [
              "<Figure size 432x288 with 1 Axes>"
            ]
          },
          "metadata": {
            "tags": []
          }
        },
        {
          "output_type": "stream",
          "text": [
            "AUGMENTATION\n"
          ],
          "name": "stdout"
        },
        {
          "output_type": "display_data",
          "data": {
            "image/png": "[encoded data removed]",
            "text/plain": [
              "<Figure size 432x288 with 1 Axes>"
            ]
          },
          "metadata": {
            "tags": []
          }
        },
        {
          "output_type": "stream",
          "text": [
            "AUGMENTATION GOOGLE\n"
          ],
          "name": "stdout"
        },
        {
          "output_type": "display_data",
          "data": {
            "image/png": "[encoded data removed]",
            "text/plain": [
              "<Figure size 432x288 with 1 Axes>"
            ]
          },
          "metadata": {
            "tags": []
          }
        }
      ]
    },
    {
      "cell_type": "code",
      "metadata": {
        "id": "VmfewIZQy_ke",
        "colab_type": "code",
        "colab": {}
      },
      "source": [
        "# MODEL WITHOUT AUGMENTATION\n",
        "score = model_aug.evaluate(x_test, y_test, batch_size=128, verbose=0)\n",
        "y_pred = model_aug.predict_classes(x_test)\n",
        "print('Model without augmentation --> Loss: {} Accuracy: {}'.format(score[0], score[1]))\n",
        "array= confusion_matrix(np.argmax(y_test, axis=1), y_pred)\n",
        "df_cm = pd.DataFrame(array, index = [class_name[i] for i in range(2)],\n",
        "                  columns = [class_name[i] for i in range(2)])\n",
        "fig = sn.heatmap(df_cm, annot=True, annot_kws={\"size\": 16},fmt='g')\n",
        "fig.set(xlabel='Predicted Label',ylabel='True Label');"
      ],
      "execution_count": 0,
      "outputs": []
    },
    {
      "cell_type": "code",
      "metadata": {
        "id": "87Sbw40QYIR3",
        "colab_type": "code",
        "outputId": "9c2eb2dd-99e5-46b9-bbb2-c7ab2262aa3c",
        "colab": {
          "base_uri": "https://localhost:8080/",
          "height": 300
        }
      },
      "source": [
        "# MODEL WITH AUGMENTATION\n",
        "score = model.evaluate(x_test, y_test, batch_size=128, verbose=0)\n",
        "y_pred = model.predict_classes(x_test)\n",
        "print('Model with augmentation --> Loss: {} Accuracy: {}'.format(score[0], score[1]))\n",
        "array= confusion_matrix(np.argmax(y_test, axis=1), y_pred)\n",
        "df_cm = pd.DataFrame(array, index = [class_name[i] for i in range(2)],\n",
        "                  columns = [class_name[i] for i in range(2)])\n",
        "fig = sn.heatmap(df_cm, annot=True, annot_kws={\"size\": 16},fmt='g')\n",
        "fig.set(xlabel='Predicted Label',ylabel='True Label');"
      ],
      "execution_count": 0,
      "outputs": [
        {
          "output_type": "stream",
          "text": [
            "Model with augmentation --> Loss: 0.366795729637146 Accuracy: 0.8360000009536743\n"
          ],
          "name": "stdout"
        },
        {
          "output_type": "display_data",
          "data": {
            "image/png": "[encoded data removed]",
            "text/plain": [
              "<Figure size 432x288 with 2 Axes>"
            ]
          },
          "metadata": {
            "tags": []
          }
        }
      ]
    },
    {
      "cell_type": "code",
      "metadata": {
        "id": "G3DfgPJLHpUV",
        "colab_type": "code",
        "outputId": "25515c6b-76cf-4531-ed75-11c5af71026e",
        "colab": {
          "base_uri": "https://localhost:8080/",
          "height": 300
        }
      },
      "source": [
        "# MODEL WITH GOOGLE'S AUGMENTATION\n",
        "score = model_google.evaluate(x_test, y_test, batch_size=128, verbose=0)\n",
        "y_pred = model_google.predict_classes(x_test)\n",
        "print('Model with augmentation --> Loss: {} Accuracy: {}'.format(score[0], score[1]))\n",
        "array= confusion_matrix(np.argmax(y_test, axis=1), y_pred)\n",
        "df_cm = pd.DataFrame(array, index = [class_name[i] for i in range(2)],\n",
        "                  columns = [class_name[i] for i in range(2)])\n",
        "fig = sn.heatmap(df_cm, annot=True, annot_kws={\"size\": 16},fmt='g')\n",
        "fig.set(xlabel='Predicted Label',ylabel='True Label');"
      ],
      "execution_count": 0,
      "outputs": [
        {
          "output_type": "stream",
          "text": [
            "Model with augmentation --> Loss: 0.4285606744289398 Accuracy: 0.8674999995231628\n"
          ],
          "name": "stdout"
        },
        {
          "output_type": "display_data",
          "data": {
            "image/png": "[encoded data removed]",
            "text/plain": [
              "<Figure size 432x288 with 2 Axes>"
            ]
          },
          "metadata": {
            "tags": []
          }
        }
      ]
    },
    {
      "cell_type": "markdown",
      "metadata": {
        "id": "Up8Ld6RqTpz0",
        "colab_type": "text"
      },
      "source": [
        "# This section puts everything together to generate the experiments"
      ]
    },
    {
      "cell_type": "code",
      "metadata": {
        "id": "ej2pnYeTel06",
        "colab_type": "code",
        "colab": {}
      },
      "source": [
        "# TO capture output of DeepAugment\n",
        "import io\n",
        "from contextlib import redirect_stdout\n",
        "\n",
        "f = io.StringIO()"
      ],
      "execution_count": 0,
      "outputs": []
    },
    {
      "cell_type": "code",
      "metadata": {
        "id": "zJS7x6BQdi56",
        "colab_type": "code",
        "colab": {}
      },
      "source": [
        "def comparative_aug_notaug_googleaug(n_classes=2, auto_augmentation_iterations = 40 ,dataset_size_per_clas = 500):\n",
        "  '''This function creates the dataset and trains and tests the model with different scenarios. Not augmented data, \n",
        "  automatically augmented data and augmented data using policies that google researchers found as best for this dataset. \n",
        "  The function returns all the relevant information obtained from the experiment.'''\n",
        "  \n",
        "  # Total length of the dataset\n",
        "  length_dataset = dataset_size_per_clas*n_classes\n",
        "  \n",
        "  # Initializing the models\n",
        "  model_aug = NN(n_classes)\n",
        "  model = NN(n_classes)\n",
        "  model_google = NN(n_classes)\n",
        "\n",
        "  \n",
        "  # Configuration for the DeepAugment\n",
        "  \n",
        "  my_config = {\n",
        "      \"model\": 'basiccnn',\n",
        "      \"method\": \"bayesian_optimization\",\n",
        "      \"train_set_size\": dataset_size_per_clas,\n",
        "      \"opt_samples\": 2,\n",
        "      \"opt_last_n_epochs\": 2,\n",
        "      \"opt_initial_points\": 10,\n",
        "      \"child_epochs\": 30,\n",
        "      \"child_first_train_epochs\": 0,\n",
        "      \"child_batch_size\": 128\n",
        "  }\n",
        "\n",
        "  # Creating train test split for augmentation\n",
        "  print('Dataset for training DeepAugment:')\n",
        "  (x_train, y_train), (x_test, y_test) = train_test_split(augment=True, length_dataset = length_dataset, n_classes = n_classes)\n",
        "  # Initializing DeepAugment\n",
        "  deepaug = DeepAugment(images = x_train, labels = y_train, config = my_config)\n",
        "  y_test = np_utils.to_categorical(y_test, n_classes)\n",
        "\n",
        "  # Finding best policies for the dataset provided\n",
        "  best_policies = deepaug.optimize(auto_augmentation_iterations)\n",
        "\n",
        "  # Formating the best policies\n",
        "  a = list(best_policies.iloc[0][1:-2])\n",
        "  print('Best policies found for this dataset: ', a)\n",
        "\n",
        "  # Creating the training dataset by applying the augmentation techniques found as best\n",
        "  print('Applying policies...')\n",
        "  train = augment_by_policy(x_train, y_train, *a)\n",
        "  x_train_aug = train['X_train']\n",
        "  y_train_aug = train['y_train']  \n",
        "  \n",
        "  y_train_aug = np_utils.to_categorical(y_train_aug, n_classes)\n",
        "  y_train_cat = np_utils.to_categorical(y_train, n_classes)\n",
        "  \n",
        "  print('Training first model without any Augmentation')\n",
        "  # Training the models, one that uses augmented data and one that uses the training data without any preprocessing\n",
        "  history_1 = model.fit(x_train, y_train_cat, batch_size=128, epochs=30, verbose=2, validation_split=0.1)\n",
        "  \n",
        "  print('Training second model with DeepAugmentation policies')\n",
        "  history_2 = model_aug.fit(x_train_aug, y_train_aug, batch_size=128, epochs=30, verbose=2, validation_split=0.1)\n",
        "  \n",
        "  print('Applying AutoAugment policies to the data:')\n",
        "  (x_train, y_train), (x_test, y_test) = train_test_split(length_dataset = length_dataset, transformed = True, n_classes = n_classes)\n",
        "  print('Training third model with AutoAugment policies')\n",
        "  history_3 = model_google.fit(x_train, y_train, batch_size=128, epochs=30, verbose=2, validation_split=0.1)\n",
        "  \n",
        "  model.save('model_{}_{}.h5'.format(n_classes, dataset_size_per_clas))\n",
        "  model_aug.save('model_aug_{}_{}_{}.h5'.format(n_classes, dataset_size_per_clas, auto_augmentation_iterations))\n",
        "  model_google.save('model_google_{}_{}.h5'.format(n_classes, dataset_size_per_clas))\n",
        "  return a, model, model_aug, model_google"
      ],
      "execution_count": 0,
      "outputs": []
    },
    {
      "cell_type": "code",
      "metadata": {
        "id": "-XMSpCU9XWXJ",
        "colab_type": "code",
        "colab": {
          "base_uri": "https://localhost:8080/",
          "height": 1856
        },
        "outputId": "6cca0acf-8b0c-40ab-bdba-3e12203e5227"
      },
      "source": [
        "# Experiments:\n",
        "n_classes_experiment = [8,7,3]\n",
        "dataset_size_per_clas_experiment = [100,200,300,400,500]\n",
        "df = pd.DataFrame(columns = ['Type','Number_of_classes', 'Size_per_class', 'Accuracy', 'Loss', 'Best_Policies']) \n",
        "for n_classes in n_classes_experiment:\n",
        "  for dataset_size_per_clas in dataset_size_per_clas_experiment:\n",
        "    print('GETTING x_test')\n",
        "    with redirect_stdout(f):\n",
        "      (x_train, y_train), (x_test, y_test) = train_test_split(length_dataset = n_classes*dataset_size_per_clas, n_classes = n_classes)\n",
        "    print('Creating models with the following params:\\n\\\n",
        "    {} Number of classes\\n\\\n",
        "    {} Size of the dataset per class\\n'.format(n_classes, dataset_size_per_clas))\n",
        "    a,model, model_aug, model_google = comparative_aug_notaug_googleaug(dataset_size_per_clas = dataset_size_per_clas, n_classes = n_classes)\n",
        "    print('Evaluating models and adding results to a Dataframe...')\n",
        "    score1 = model.evaluate(x_test, y_test, batch_size=128, verbose=0)\n",
        "    score2 = model_aug.evaluate(x_test, y_test, batch_size=128, verbose=0)\n",
        "    score3 = model_google.evaluate(x_test, y_test, batch_size=128, verbose=0)\n",
        "    df = df.append({'Type': 'No Augmentation', \n",
        "           'Number_of_classes': n_classes, \n",
        "           'Size_per_class': dataset_size_per_clas, \n",
        "           'Accuracy': score1[1],\n",
        "           'Loss': score1[0]}, ignore_index=True)\n",
        "    df = df.append({'Type': 'DeepAugmentation', \n",
        "           'Number_of_classes': n_classes, \n",
        "           'Size_per_class': dataset_size_per_clas, \n",
        "           'Accuracy': score2[1],\n",
        "           'Loss': score2[0],\n",
        "           'Best_Policies': a}, ignore_index=True)\n",
        "    df = df.append({'Type': 'AutoAugmentation', \n",
        "           'Number_of_classes': n_classes, \n",
        "           'Size_per_class': dataset_size_per_clas, \n",
        "           'Accuracy': score3[1],\n",
        "           'Loss': score3[0]}, ignore_index=True)\n",
        "    print(list(df.iloc[-1]), list(df.iloc[-2]), list(df.iloc[-3]))\n",
        "    \n",
        "df"
      ],
      "execution_count": 20,
      "outputs": [
        {
          "output_type": "stream",
          "text": [
            "GETTING x_test\n",
            "Creating models with the following params:\n",
            "    8 Number of classes\n",
            "    100 Size of the dataset per class\n",
            "\n",
            "Dataset for training DeepAugment:\n",
            "CLASSES SPLIT CONTAINS:\n",
            "  800 total samples\n",
            "  With 8 classes \n",
            "  That have the following distribution: [102 112  99  93 100  85 107 102]\n",
            "Using 100 training images\n",
            "BasicCNN model built as child model.\n",
            " Model summary:\n",
            "_________________________________________________________________\n",
            "Layer (type)                 Output Shape              Param #   \n",
            "=================================================================\n",
            "conv2d_69 (Conv2D)           (None, 32, 32, 32)        896       \n",
            "_________________________________________________________________\n",
            "activation_103 (Activation)  (None, 32, 32, 32)        0         \n",
            "_________________________________________________________________\n",
            "conv2d_70 (Conv2D)           (None, 30, 30, 32)        9248      \n",
            "_________________________________________________________________\n",
            "activation_104 (Activation)  (None, 30, 30, 32)        0         \n",
            "_________________________________________________________________\n",
            "max_pooling2d_35 (MaxPooling (None, 15, 15, 32)        0         \n",
            "_________________________________________________________________\n",
            "dropout_52 (Dropout)         (None, 15, 15, 32)        0         \n",
            "_________________________________________________________________\n",
            "conv2d_71 (Conv2D)           (None, 15, 15, 64)        18496     \n",
            "_________________________________________________________________\n",
            "activation_105 (Activation)  (None, 15, 15, 64)        0         \n",
            "_________________________________________________________________\n",
            "conv2d_72 (Conv2D)           (None, 13, 13, 64)        36928     \n",
            "_________________________________________________________________\n",
            "activation_106 (Activation)  (None, 13, 13, 64)        0         \n",
            "_________________________________________________________________\n",
            "max_pooling2d_36 (MaxPooling (None, 6, 6, 64)          0         \n",
            "_________________________________________________________________\n",
            "dropout_53 (Dropout)         (None, 6, 6, 64)          0         \n",
            "_________________________________________________________________\n",
            "flatten_18 (Flatten)         (None, 2304)              0         \n",
            "_________________________________________________________________\n",
            "dense_35 (Dense)             (None, 512)               1180160   \n",
            "_________________________________________________________________\n",
            "activation_107 (Activation)  (None, 512)               0         \n",
            "_________________________________________________________________\n",
            "dropout_54 (Dropout)         (None, 512)               0         \n",
            "_________________________________________________________________\n",
            "dense_36 (Dense)             (None, 8)                 4104      \n",
            "_________________________________________________________________\n",
            "activation_108 (Activation)  (None, 8)                 0         \n",
            "=================================================================\n",
            "Total params: 1,249,832\n",
            "Trainable params: 1,249,832\n",
            "Non-trainable params: 0\n",
            "_________________________________________________________________\n",
            "None\n",
            "load_pre_augment_weights()'s runtime:  0.2893 sec.\n",
            "Train on 600 samples, validate on 700 samples\n",
            "Epoch 1/30\n",
            " - 1s - loss: 2.0785 - acc: 0.1417 - val_loss: 2.0846 - val_acc: 0.1200\n",
            "Epoch 2/30\n",
            " - 0s - loss: 2.0698 - acc: 0.1383 - val_loss: 2.0828 - val_acc: 0.1200\n",
            "Epoch 3/30\n",
            " - 0s - loss: 2.0663 - acc: 0.1450 - val_loss: 2.0922 - val_acc: 0.1200\n",
            "Epoch 4/30\n",
            " - 0s - loss: 2.0655 - acc: 0.1550 - val_loss: 2.1105 - val_acc: 0.1243\n",
            "Epoch 5/30\n",
            " - 0s - loss: 2.0629 - acc: 0.1317 - val_loss: 2.0944 - val_acc: 0.1114\n",
            "Epoch 6/30\n",
            " - 0s - loss: 2.0654 - acc: 0.1417 - val_loss: 2.0902 - val_acc: 0.1243\n",
            "Epoch 7/30\n",
            " - 0s - loss: 2.0617 - acc: 0.1583 - val_loss: 2.0945 - val_acc: 0.1200\n",
            "Epoch 8/30\n",
            " - 0s - loss: 2.0658 - acc: 0.1200 - val_loss: 2.0916 - val_acc: 0.1200\n",
            "Epoch 9/30\n",
            " - 0s - loss: 2.0644 - acc: 0.1633 - val_loss: 2.0966 - val_acc: 0.1200\n",
            "Epoch 10/30\n",
            " - 0s - loss: 2.0620 - acc: 0.1250 - val_loss: 2.0930 - val_acc: 0.1200\n",
            "Epoch 11/30\n",
            " - 0s - loss: 2.0612 - acc: 0.1483 - val_loss: 2.0880 - val_acc: 0.1200\n",
            "Epoch 12/30\n",
            " - 0s - loss: 2.0616 - acc: 0.1417 - val_loss: 2.1013 - val_acc: 0.1200\n",
            "Epoch 13/30\n",
            " - 0s - loss: 2.0658 - acc: 0.1350 - val_loss: 2.0926 - val_acc: 0.1200\n",
            "Epoch 14/30\n"
          ],
          "name": "stdout"
        },
        {
          "output_type": "error",
          "ename": "KeyboardInterrupt",
          "evalue": "ignored",
          "traceback": [
            "\u001b[0;31m---------------------------------------------------------------------------\u001b[0m",
            "\u001b[0;31mKeyboardInterrupt\u001b[0m                         Traceback (most recent call last)",
            "\u001b[0;32m<ipython-input-20-6fd65896d51d>\u001b[0m in \u001b[0;36m<module>\u001b[0;34m()\u001b[0m\n\u001b[1;32m      8\u001b[0m       \u001b[0;34m(\u001b[0m\u001b[0mx_train\u001b[0m\u001b[0;34m,\u001b[0m \u001b[0my_train\u001b[0m\u001b[0;34m)\u001b[0m\u001b[0;34m,\u001b[0m \u001b[0;34m(\u001b[0m\u001b[0mx_test\u001b[0m\u001b[0;34m,\u001b[0m \u001b[0my_test\u001b[0m\u001b[0;34m)\u001b[0m \u001b[0;34m=\u001b[0m \u001b[0mtrain_test_split\u001b[0m\u001b[0;34m(\u001b[0m\u001b[0mlength_dataset\u001b[0m \u001b[0;34m=\u001b[0m \u001b[0mn_classes\u001b[0m\u001b[0;34m*\u001b[0m\u001b[0mdataset_size_per_clas\u001b[0m\u001b[0;34m,\u001b[0m \u001b[0mn_classes\u001b[0m \u001b[0;34m=\u001b[0m \u001b[0mn_classes\u001b[0m\u001b[0;34m)\u001b[0m\u001b[0;34m\u001b[0m\u001b[0;34m\u001b[0m\u001b[0m\n\u001b[1;32m      9\u001b[0m     \u001b[0mprint\u001b[0m\u001b[0;34m(\u001b[0m\u001b[0;34m'Creating models with the following params:\\n    {} Number of classes\\n    {} Size of the dataset per class\\n'\u001b[0m\u001b[0;34m.\u001b[0m\u001b[0mformat\u001b[0m\u001b[0;34m(\u001b[0m\u001b[0mn_classes\u001b[0m\u001b[0;34m,\u001b[0m \u001b[0mdataset_size_per_clas\u001b[0m\u001b[0;34m)\u001b[0m\u001b[0;34m)\u001b[0m\u001b[0;34m\u001b[0m\u001b[0;34m\u001b[0m\u001b[0m\n\u001b[0;32m---> 10\u001b[0;31m     \u001b[0ma\u001b[0m\u001b[0;34m,\u001b[0m\u001b[0mmodel\u001b[0m\u001b[0;34m,\u001b[0m \u001b[0mmodel_aug\u001b[0m\u001b[0;34m,\u001b[0m \u001b[0mmodel_google\u001b[0m \u001b[0;34m=\u001b[0m \u001b[0mcomparative_aug_notaug_googleaug\u001b[0m\u001b[0;34m(\u001b[0m\u001b[0mdataset_size_per_clas\u001b[0m \u001b[0;34m=\u001b[0m \u001b[0mdataset_size_per_clas\u001b[0m\u001b[0;34m,\u001b[0m \u001b[0mn_classes\u001b[0m \u001b[0;34m=\u001b[0m \u001b[0mn_classes\u001b[0m\u001b[0;34m)\u001b[0m\u001b[0;34m\u001b[0m\u001b[0;34m\u001b[0m\u001b[0m\n\u001b[0m\u001b[1;32m     11\u001b[0m     \u001b[0mprint\u001b[0m\u001b[0;34m(\u001b[0m\u001b[0;34m'Evaluating models and adding results to a Dataframe...'\u001b[0m\u001b[0;34m)\u001b[0m\u001b[0;34m\u001b[0m\u001b[0;34m\u001b[0m\u001b[0m\n\u001b[1;32m     12\u001b[0m     \u001b[0mscore1\u001b[0m \u001b[0;34m=\u001b[0m \u001b[0mmodel\u001b[0m\u001b[0;34m.\u001b[0m\u001b[0mevaluate\u001b[0m\u001b[0;34m(\u001b[0m\u001b[0mx_test\u001b[0m\u001b[0;34m,\u001b[0m \u001b[0my_test\u001b[0m\u001b[0;34m,\u001b[0m \u001b[0mbatch_size\u001b[0m\u001b[0;34m=\u001b[0m\u001b[0;36m128\u001b[0m\u001b[0;34m,\u001b[0m \u001b[0mverbose\u001b[0m\u001b[0;34m=\u001b[0m\u001b[0;36m0\u001b[0m\u001b[0;34m)\u001b[0m\u001b[0;34m\u001b[0m\u001b[0;34m\u001b[0m\u001b[0m\n",
            "\u001b[0;32m<ipython-input-19-4a85fea7a4b0>\u001b[0m in \u001b[0;36mcomparative_aug_notaug_googleaug\u001b[0;34m(n_classes, auto_augmentation_iterations, dataset_size_per_clas)\u001b[0m\n\u001b[1;32m     31\u001b[0m   \u001b[0;34m(\u001b[0m\u001b[0mx_train\u001b[0m\u001b[0;34m,\u001b[0m \u001b[0my_train\u001b[0m\u001b[0;34m)\u001b[0m\u001b[0;34m,\u001b[0m \u001b[0;34m(\u001b[0m\u001b[0mx_test\u001b[0m\u001b[0;34m,\u001b[0m \u001b[0my_test\u001b[0m\u001b[0;34m)\u001b[0m \u001b[0;34m=\u001b[0m \u001b[0mtrain_test_split\u001b[0m\u001b[0;34m(\u001b[0m\u001b[0maugment\u001b[0m\u001b[0;34m=\u001b[0m\u001b[0;32mTrue\u001b[0m\u001b[0;34m,\u001b[0m \u001b[0mlength_dataset\u001b[0m \u001b[0;34m=\u001b[0m \u001b[0mlength_dataset\u001b[0m\u001b[0;34m,\u001b[0m \u001b[0mn_classes\u001b[0m \u001b[0;34m=\u001b[0m \u001b[0mn_classes\u001b[0m\u001b[0;34m)\u001b[0m\u001b[0;34m\u001b[0m\u001b[0;34m\u001b[0m\u001b[0m\n\u001b[1;32m     32\u001b[0m   \u001b[0;31m# Initializing DeepAugment\u001b[0m\u001b[0;34m\u001b[0m\u001b[0;34m\u001b[0m\u001b[0;34m\u001b[0m\u001b[0m\n\u001b[0;32m---> 33\u001b[0;31m   \u001b[0mdeepaug\u001b[0m \u001b[0;34m=\u001b[0m \u001b[0mDeepAugment\u001b[0m\u001b[0;34m(\u001b[0m\u001b[0mimages\u001b[0m \u001b[0;34m=\u001b[0m \u001b[0mx_train\u001b[0m\u001b[0;34m,\u001b[0m \u001b[0mlabels\u001b[0m \u001b[0;34m=\u001b[0m \u001b[0my_train\u001b[0m\u001b[0;34m,\u001b[0m \u001b[0mconfig\u001b[0m \u001b[0;34m=\u001b[0m \u001b[0mmy_config\u001b[0m\u001b[0;34m)\u001b[0m\u001b[0;34m\u001b[0m\u001b[0;34m\u001b[0m\u001b[0m\n\u001b[0m\u001b[1;32m     34\u001b[0m   \u001b[0my_test\u001b[0m \u001b[0;34m=\u001b[0m \u001b[0mnp_utils\u001b[0m\u001b[0;34m.\u001b[0m\u001b[0mto_categorical\u001b[0m\u001b[0;34m(\u001b[0m\u001b[0my_test\u001b[0m\u001b[0;34m,\u001b[0m \u001b[0mn_classes\u001b[0m\u001b[0;34m)\u001b[0m\u001b[0;34m\u001b[0m\u001b[0;34m\u001b[0m\u001b[0m\n\u001b[1;32m     35\u001b[0m \u001b[0;34m\u001b[0m\u001b[0m\n",
            "\u001b[0;32m/usr/local/lib/python3.6/dist-packages/deepaugment/lib/decorators.py\u001b[0m in \u001b[0;36mwrapper\u001b[0;34m(*args, **kwargs)\u001b[0m\n\u001b[1;32m    104\u001b[0m                 )\n\u001b[1;32m    105\u001b[0m             )\n\u001b[0;32m--> 106\u001b[0;31m             \u001b[0;32mreturn\u001b[0m \u001b[0mfunc\u001b[0m\u001b[0;34m(\u001b[0m\u001b[0;34m*\u001b[0m\u001b[0margs\u001b[0m\u001b[0;34m,\u001b[0m \u001b[0;34m**\u001b[0m\u001b[0mkwargs\u001b[0m\u001b[0;34m)\u001b[0m\u001b[0;34m\u001b[0m\u001b[0;34m\u001b[0m\u001b[0m\n\u001b[0m\u001b[1;32m    107\u001b[0m \u001b[0;34m\u001b[0m\u001b[0m\n\u001b[1;32m    108\u001b[0m         \u001b[0;32mreturn\u001b[0m \u001b[0mwrapper\u001b[0m\u001b[0;34m\u001b[0m\u001b[0;34m\u001b[0m\u001b[0m\n",
            "\u001b[0;32m/usr/local/lib/python3.6/dist-packages/deepaugment/deepaugment.py\u001b[0m in \u001b[0;36m__init__\u001b[0;34m(self, images, labels, config)\u001b[0m\n\u001b[1;32m    124\u001b[0m         )\n\u001b[1;32m    125\u001b[0m \u001b[0;34m\u001b[0m\u001b[0m\n\u001b[0;32m--> 126\u001b[0;31m         \u001b[0mself\u001b[0m\u001b[0;34m.\u001b[0m\u001b[0m_evaluate_objective_func_without_augmentation\u001b[0m\u001b[0;34m(\u001b[0m\u001b[0;34m)\u001b[0m\u001b[0;34m\u001b[0m\u001b[0;34m\u001b[0m\u001b[0m\n\u001b[0m\u001b[1;32m    127\u001b[0m \u001b[0;34m\u001b[0m\u001b[0m\n\u001b[1;32m    128\u001b[0m     \u001b[0;32mdef\u001b[0m \u001b[0moptimize\u001b[0m\u001b[0;34m(\u001b[0m\u001b[0mself\u001b[0m\u001b[0;34m,\u001b[0m \u001b[0miterations\u001b[0m\u001b[0;34m=\u001b[0m\u001b[0;36m300\u001b[0m\u001b[0;34m)\u001b[0m\u001b[0;34m:\u001b[0m\u001b[0;34m\u001b[0m\u001b[0;34m\u001b[0m\u001b[0m\n",
            "\u001b[0;32m/usr/local/lib/python3.6/dist-packages/deepaugment/deepaugment.py\u001b[0m in \u001b[0;36m_evaluate_objective_func_without_augmentation\u001b[0;34m(self)\u001b[0m\n\u001b[1;32m    211\u001b[0m                               \u001b[0;34m\"rotate\"\u001b[0m\u001b[0;34m,\u001b[0m \u001b[0;36m0.0\u001b[0m\u001b[0;34m,\u001b[0m \u001b[0;34m\"rotate\"\u001b[0m\u001b[0;34m,\u001b[0m \u001b[0;36m0.0\u001b[0m\u001b[0;34m,\u001b[0m\u001b[0;34m\u001b[0m\u001b[0;34m\u001b[0m\u001b[0m\n\u001b[1;32m    212\u001b[0m                               \"rotate\", 0.0, \"rotate\", 0.0]\n\u001b[0;32m--> 213\u001b[0;31m         \u001b[0mf_val\u001b[0m \u001b[0;34m=\u001b[0m \u001b[0mself\u001b[0m\u001b[0;34m.\u001b[0m\u001b[0mobjective_func\u001b[0m\u001b[0;34m.\u001b[0m\u001b[0mevaluate\u001b[0m\u001b[0;34m(\u001b[0m\u001b[0;36m0\u001b[0m\u001b[0;34m,\u001b[0m \u001b[0mno_aug_hyperparams\u001b[0m\u001b[0;34m)\u001b[0m\u001b[0;34m\u001b[0m\u001b[0;34m\u001b[0m\u001b[0m\n\u001b[0m\u001b[1;32m    214\u001b[0m         \u001b[0mself\u001b[0m\u001b[0;34m.\u001b[0m\u001b[0mcontroller\u001b[0m\u001b[0;34m.\u001b[0m\u001b[0mtell\u001b[0m\u001b[0;34m(\u001b[0m\u001b[0mno_aug_hyperparams\u001b[0m\u001b[0;34m,\u001b[0m \u001b[0mf_val\u001b[0m\u001b[0;34m)\u001b[0m\u001b[0;34m\u001b[0m\u001b[0;34m\u001b[0m\u001b[0m\n\u001b[1;32m    215\u001b[0m \u001b[0;34m\u001b[0m\u001b[0m\n",
            "\u001b[0;32m/usr/local/lib/python3.6/dist-packages/deepaugment/objective.py\u001b[0m in \u001b[0;36mevaluate\u001b[0;34m(self, trial_no, trial_hyperparams)\u001b[0m\n\u001b[1;32m     49\u001b[0m             \u001b[0mself\u001b[0m\u001b[0;34m.\u001b[0m\u001b[0mchild_model\u001b[0m\u001b[0;34m.\u001b[0m\u001b[0mload_pre_augment_weights\u001b[0m\u001b[0;34m(\u001b[0m\u001b[0;34m)\u001b[0m\u001b[0;34m\u001b[0m\u001b[0;34m\u001b[0m\u001b[0m\n\u001b[1;32m     50\u001b[0m             \u001b[0;31m# TRAIN\u001b[0m\u001b[0;34m\u001b[0m\u001b[0;34m\u001b[0m\u001b[0;34m\u001b[0m\u001b[0m\n\u001b[0;32m---> 51\u001b[0;31m             \u001b[0mhistory\u001b[0m \u001b[0;34m=\u001b[0m \u001b[0mself\u001b[0m\u001b[0;34m.\u001b[0m\u001b[0mchild_model\u001b[0m\u001b[0;34m.\u001b[0m\u001b[0mfit\u001b[0m\u001b[0;34m(\u001b[0m\u001b[0mself\u001b[0m\u001b[0;34m.\u001b[0m\u001b[0mdata\u001b[0m\u001b[0;34m,\u001b[0m \u001b[0maugmented_data\u001b[0m\u001b[0;34m)\u001b[0m\u001b[0;34m\u001b[0m\u001b[0;34m\u001b[0m\u001b[0m\n\u001b[0m\u001b[1;32m     52\u001b[0m             \u001b[0;31m#\u001b[0m\u001b[0;34m\u001b[0m\u001b[0;34m\u001b[0m\u001b[0;34m\u001b[0m\u001b[0m\n\u001b[1;32m     53\u001b[0m             \u001b[0mreward\u001b[0m \u001b[0;34m=\u001b[0m \u001b[0mself\u001b[0m\u001b[0;34m.\u001b[0m\u001b[0mcalculate_reward\u001b[0m\u001b[0;34m(\u001b[0m\u001b[0mhistory\u001b[0m\u001b[0;34m)\u001b[0m\u001b[0;34m\u001b[0m\u001b[0;34m\u001b[0m\u001b[0m\n",
            "\u001b[0;32m/usr/local/lib/python3.6/dist-packages/deepaugment/lib/decorators.py\u001b[0m in \u001b[0;36mwrapper\u001b[0;34m(*args, **kwargs)\u001b[0m\n\u001b[1;32m    117\u001b[0m         \u001b[0;32mdef\u001b[0m \u001b[0mwrapper\u001b[0m\u001b[0;34m(\u001b[0m\u001b[0;34m*\u001b[0m\u001b[0margs\u001b[0m\u001b[0;34m,\u001b[0m \u001b[0;34m**\u001b[0m\u001b[0mkwargs\u001b[0m\u001b[0;34m)\u001b[0m\u001b[0;34m:\u001b[0m\u001b[0;34m\u001b[0m\u001b[0;34m\u001b[0m\u001b[0m\n\u001b[1;32m    118\u001b[0m             \u001b[0mt1\u001b[0m \u001b[0;34m=\u001b[0m \u001b[0mtime\u001b[0m\u001b[0;34m.\u001b[0m\u001b[0mtime\u001b[0m\u001b[0;34m(\u001b[0m\u001b[0;34m)\u001b[0m\u001b[0;34m\u001b[0m\u001b[0;34m\u001b[0m\u001b[0m\n\u001b[0;32m--> 119\u001b[0;31m             \u001b[0mresult\u001b[0m \u001b[0;34m=\u001b[0m \u001b[0mfunc\u001b[0m\u001b[0;34m(\u001b[0m\u001b[0;34m*\u001b[0m\u001b[0margs\u001b[0m\u001b[0;34m,\u001b[0m \u001b[0;34m**\u001b[0m\u001b[0mkwargs\u001b[0m\u001b[0;34m)\u001b[0m\u001b[0;34m\u001b[0m\u001b[0;34m\u001b[0m\u001b[0m\n\u001b[0m\u001b[1;32m    120\u001b[0m             \u001b[0mt2\u001b[0m \u001b[0;34m=\u001b[0m \u001b[0mtime\u001b[0m\u001b[0;34m.\u001b[0m\u001b[0mtime\u001b[0m\u001b[0;34m(\u001b[0m\u001b[0;34m)\u001b[0m\u001b[0;34m\u001b[0m\u001b[0;34m\u001b[0m\u001b[0m\n\u001b[1;32m    121\u001b[0m             print(\n",
            "\u001b[0;32m/usr/local/lib/python3.6/dist-packages/deepaugment/childcnn.py\u001b[0m in \u001b[0;36mfit\u001b[0;34m(self, data, augmented_data, epochs)\u001b[0m\n\u001b[1;32m     69\u001b[0m             \u001b[0mvalidation_data\u001b[0m\u001b[0;34m=\u001b[0m\u001b[0;34m(\u001b[0m\u001b[0mX_val\u001b[0m\u001b[0;34m,\u001b[0m \u001b[0my_val\u001b[0m\u001b[0;34m)\u001b[0m\u001b[0;34m,\u001b[0m\u001b[0;34m\u001b[0m\u001b[0;34m\u001b[0m\u001b[0m\n\u001b[1;32m     70\u001b[0m             \u001b[0mshuffle\u001b[0m\u001b[0;34m=\u001b[0m\u001b[0;32mTrue\u001b[0m\u001b[0;34m,\u001b[0m\u001b[0;34m\u001b[0m\u001b[0;34m\u001b[0m\u001b[0m\n\u001b[0;32m---> 71\u001b[0;31m             \u001b[0mverbose\u001b[0m\u001b[0;34m=\u001b[0m\u001b[0;36m2\u001b[0m\u001b[0;34m,\u001b[0m\u001b[0;34m\u001b[0m\u001b[0;34m\u001b[0m\u001b[0m\n\u001b[0m\u001b[1;32m     72\u001b[0m         )\n\u001b[1;32m     73\u001b[0m         \u001b[0;32mreturn\u001b[0m \u001b[0mrecord\u001b[0m\u001b[0;34m.\u001b[0m\u001b[0mhistory\u001b[0m\u001b[0;34m\u001b[0m\u001b[0;34m\u001b[0m\u001b[0m\n",
            "\u001b[0;32m/usr/local/lib/python3.6/dist-packages/keras/engine/training.py\u001b[0m in \u001b[0;36mfit\u001b[0;34m(self, x, y, batch_size, epochs, verbose, callbacks, validation_split, validation_data, shuffle, class_weight, sample_weight, initial_epoch, steps_per_epoch, validation_steps, **kwargs)\u001b[0m\n\u001b[1;32m   1037\u001b[0m                                         \u001b[0minitial_epoch\u001b[0m\u001b[0;34m=\u001b[0m\u001b[0minitial_epoch\u001b[0m\u001b[0;34m,\u001b[0m\u001b[0;34m\u001b[0m\u001b[0;34m\u001b[0m\u001b[0m\n\u001b[1;32m   1038\u001b[0m                                         \u001b[0msteps_per_epoch\u001b[0m\u001b[0;34m=\u001b[0m\u001b[0msteps_per_epoch\u001b[0m\u001b[0;34m,\u001b[0m\u001b[0;34m\u001b[0m\u001b[0;34m\u001b[0m\u001b[0m\n\u001b[0;32m-> 1039\u001b[0;31m                                         validation_steps=validation_steps)\n\u001b[0m\u001b[1;32m   1040\u001b[0m \u001b[0;34m\u001b[0m\u001b[0m\n\u001b[1;32m   1041\u001b[0m     def evaluate(self, x=None, y=None,\n",
            "\u001b[0;32m/usr/local/lib/python3.6/dist-packages/keras/engine/training_arrays.py\u001b[0m in \u001b[0;36mfit_loop\u001b[0;34m(model, f, ins, out_labels, batch_size, epochs, verbose, callbacks, val_f, val_ins, shuffle, callback_metrics, initial_epoch, steps_per_epoch, validation_steps)\u001b[0m\n\u001b[1;32m    197\u001b[0m                     \u001b[0mins_batch\u001b[0m\u001b[0;34m[\u001b[0m\u001b[0mi\u001b[0m\u001b[0;34m]\u001b[0m \u001b[0;34m=\u001b[0m \u001b[0mins_batch\u001b[0m\u001b[0;34m[\u001b[0m\u001b[0mi\u001b[0m\u001b[0;34m]\u001b[0m\u001b[0;34m.\u001b[0m\u001b[0mtoarray\u001b[0m\u001b[0;34m(\u001b[0m\u001b[0;34m)\u001b[0m\u001b[0;34m\u001b[0m\u001b[0;34m\u001b[0m\u001b[0m\n\u001b[1;32m    198\u001b[0m \u001b[0;34m\u001b[0m\u001b[0m\n\u001b[0;32m--> 199\u001b[0;31m                 \u001b[0mouts\u001b[0m \u001b[0;34m=\u001b[0m \u001b[0mf\u001b[0m\u001b[0;34m(\u001b[0m\u001b[0mins_batch\u001b[0m\u001b[0;34m)\u001b[0m\u001b[0;34m\u001b[0m\u001b[0;34m\u001b[0m\u001b[0m\n\u001b[0m\u001b[1;32m    200\u001b[0m                 \u001b[0mouts\u001b[0m \u001b[0;34m=\u001b[0m \u001b[0mto_list\u001b[0m\u001b[0;34m(\u001b[0m\u001b[0mouts\u001b[0m\u001b[0;34m)\u001b[0m\u001b[0;34m\u001b[0m\u001b[0;34m\u001b[0m\u001b[0m\n\u001b[1;32m    201\u001b[0m                 \u001b[0;32mfor\u001b[0m \u001b[0ml\u001b[0m\u001b[0;34m,\u001b[0m \u001b[0mo\u001b[0m \u001b[0;32min\u001b[0m \u001b[0mzip\u001b[0m\u001b[0;34m(\u001b[0m\u001b[0mout_labels\u001b[0m\u001b[0;34m,\u001b[0m \u001b[0mouts\u001b[0m\u001b[0;34m)\u001b[0m\u001b[0;34m:\u001b[0m\u001b[0;34m\u001b[0m\u001b[0;34m\u001b[0m\u001b[0m\n",
            "\u001b[0;32m/usr/local/lib/python3.6/dist-packages/keras/backend/tensorflow_backend.py\u001b[0m in \u001b[0;36m__call__\u001b[0;34m(self, inputs)\u001b[0m\n\u001b[1;32m   2713\u001b[0m                 \u001b[0;32mreturn\u001b[0m \u001b[0mself\u001b[0m\u001b[0;34m.\u001b[0m\u001b[0m_legacy_call\u001b[0m\u001b[0;34m(\u001b[0m\u001b[0minputs\u001b[0m\u001b[0;34m)\u001b[0m\u001b[0;34m\u001b[0m\u001b[0;34m\u001b[0m\u001b[0m\n\u001b[1;32m   2714\u001b[0m \u001b[0;34m\u001b[0m\u001b[0m\n\u001b[0;32m-> 2715\u001b[0;31m             \u001b[0;32mreturn\u001b[0m \u001b[0mself\u001b[0m\u001b[0;34m.\u001b[0m\u001b[0m_call\u001b[0m\u001b[0;34m(\u001b[0m\u001b[0minputs\u001b[0m\u001b[0;34m)\u001b[0m\u001b[0;34m\u001b[0m\u001b[0;34m\u001b[0m\u001b[0m\n\u001b[0m\u001b[1;32m   2716\u001b[0m         \u001b[0;32melse\u001b[0m\u001b[0;34m:\u001b[0m\u001b[0;34m\u001b[0m\u001b[0;34m\u001b[0m\u001b[0m\n\u001b[1;32m   2717\u001b[0m             \u001b[0;32mif\u001b[0m \u001b[0mpy_any\u001b[0m\u001b[0;34m(\u001b[0m\u001b[0mis_tensor\u001b[0m\u001b[0;34m(\u001b[0m\u001b[0mx\u001b[0m\u001b[0;34m)\u001b[0m \u001b[0;32mfor\u001b[0m \u001b[0mx\u001b[0m \u001b[0;32min\u001b[0m \u001b[0minputs\u001b[0m\u001b[0;34m)\u001b[0m\u001b[0;34m:\u001b[0m\u001b[0;34m\u001b[0m\u001b[0;34m\u001b[0m\u001b[0m\n",
            "\u001b[0;32m/usr/local/lib/python3.6/dist-packages/keras/backend/tensorflow_backend.py\u001b[0m in \u001b[0;36m_call\u001b[0;34m(self, inputs)\u001b[0m\n\u001b[1;32m   2673\u001b[0m             \u001b[0mfetched\u001b[0m \u001b[0;34m=\u001b[0m \u001b[0mself\u001b[0m\u001b[0;34m.\u001b[0m\u001b[0m_callable_fn\u001b[0m\u001b[0;34m(\u001b[0m\u001b[0;34m*\u001b[0m\u001b[0marray_vals\u001b[0m\u001b[0;34m,\u001b[0m \u001b[0mrun_metadata\u001b[0m\u001b[0;34m=\u001b[0m\u001b[0mself\u001b[0m\u001b[0;34m.\u001b[0m\u001b[0mrun_metadata\u001b[0m\u001b[0;34m)\u001b[0m\u001b[0;34m\u001b[0m\u001b[0;34m\u001b[0m\u001b[0m\n\u001b[1;32m   2674\u001b[0m         \u001b[0;32melse\u001b[0m\u001b[0;34m:\u001b[0m\u001b[0;34m\u001b[0m\u001b[0;34m\u001b[0m\u001b[0m\n\u001b[0;32m-> 2675\u001b[0;31m             \u001b[0mfetched\u001b[0m \u001b[0;34m=\u001b[0m \u001b[0mself\u001b[0m\u001b[0;34m.\u001b[0m\u001b[0m_callable_fn\u001b[0m\u001b[0;34m(\u001b[0m\u001b[0;34m*\u001b[0m\u001b[0marray_vals\u001b[0m\u001b[0;34m)\u001b[0m\u001b[0;34m\u001b[0m\u001b[0;34m\u001b[0m\u001b[0m\n\u001b[0m\u001b[1;32m   2676\u001b[0m         \u001b[0;32mreturn\u001b[0m \u001b[0mfetched\u001b[0m\u001b[0;34m[\u001b[0m\u001b[0;34m:\u001b[0m\u001b[0mlen\u001b[0m\u001b[0;34m(\u001b[0m\u001b[0mself\u001b[0m\u001b[0;34m.\u001b[0m\u001b[0moutputs\u001b[0m\u001b[0;34m)\u001b[0m\u001b[0;34m]\u001b[0m\u001b[0;34m\u001b[0m\u001b[0;34m\u001b[0m\u001b[0m\n\u001b[1;32m   2677\u001b[0m \u001b[0;34m\u001b[0m\u001b[0m\n",
            "\u001b[0;32m/usr/local/lib/python3.6/dist-packages/tensorflow/python/client/session.py\u001b[0m in \u001b[0;36m__call__\u001b[0;34m(self, *args, **kwargs)\u001b[0m\n\u001b[1;32m   1437\u001b[0m           ret = tf_session.TF_SessionRunCallable(\n\u001b[1;32m   1438\u001b[0m               \u001b[0mself\u001b[0m\u001b[0;34m.\u001b[0m\u001b[0m_session\u001b[0m\u001b[0;34m.\u001b[0m\u001b[0m_session\u001b[0m\u001b[0;34m,\u001b[0m \u001b[0mself\u001b[0m\u001b[0;34m.\u001b[0m\u001b[0m_handle\u001b[0m\u001b[0;34m,\u001b[0m \u001b[0margs\u001b[0m\u001b[0;34m,\u001b[0m \u001b[0mstatus\u001b[0m\u001b[0;34m,\u001b[0m\u001b[0;34m\u001b[0m\u001b[0;34m\u001b[0m\u001b[0m\n\u001b[0;32m-> 1439\u001b[0;31m               run_metadata_ptr)\n\u001b[0m\u001b[1;32m   1440\u001b[0m         \u001b[0;32mif\u001b[0m \u001b[0mrun_metadata\u001b[0m\u001b[0;34m:\u001b[0m\u001b[0;34m\u001b[0m\u001b[0;34m\u001b[0m\u001b[0m\n\u001b[1;32m   1441\u001b[0m           \u001b[0mproto_data\u001b[0m \u001b[0;34m=\u001b[0m \u001b[0mtf_session\u001b[0m\u001b[0;34m.\u001b[0m\u001b[0mTF_GetBuffer\u001b[0m\u001b[0;34m(\u001b[0m\u001b[0mrun_metadata_ptr\u001b[0m\u001b[0;34m)\u001b[0m\u001b[0;34m\u001b[0m\u001b[0;34m\u001b[0m\u001b[0m\n",
            "\u001b[0;31mKeyboardInterrupt\u001b[0m: "
          ]
        }
      ]
    },
    {
      "cell_type": "code",
      "metadata": {
        "id": "elEBOHxSoSll",
        "colab_type": "code",
        "colab": {}
      },
      "source": [
        "df.to_csv('Experiments_8_7_3_and_100_200_300_400_500')"
      ],
      "execution_count": 0,
      "outputs": []
    },
    {
      "cell_type": "code",
      "metadata": {
        "id": "2riH0LZ0pCty",
        "colab_type": "code",
        "outputId": "4ff7db44-bcb6-4ae1-d439-8c83e567df1d",
        "colab": {
          "base_uri": "https://localhost:8080/",
          "height": 34
        }
      },
      "source": [
        "from google.colab import files\n",
        "files_to_download = ['model_{}_{}.h5'.format(cl, size) for cl in n_classes_experiment for size in dataset_size_per_clas_experiment]\n",
        "files_to_download.extend(['model_aug_{}_{}.h5'.format(cl, size) for cl in n_classes_experiment for size in dataset_size_per_clas_experiment])\n",
        "files_to_download.extend(['model_google_{}_{}.h5'.format(cl, size) for cl in n_classes_experiment for size in dataset_size_per_clas_experiment])\n",
        "files_to_download = ' '.join(files_to_download)\n",
        "os.system('zip '+\"models.zip \"+files_to_download)"
      ],
      "execution_count": 0,
      "outputs": [
        {
          "output_type": "execute_result",
          "data": {
            "text/plain": [
              "0"
            ]
          },
          "metadata": {
            "tags": []
          },
          "execution_count": 9
        }
      ]
    },
    {
      "cell_type": "code",
      "metadata": {
        "id": "qFUeN7rzh5W3",
        "colab_type": "code",
        "colab": {}
      },
      "source": [
        "policies, model_1, model_2 = comparative_aug_notaug(auto_augmentation_iterations = 30 ,dataset_size_per_clas = 200)"
      ],
      "execution_count": 0,
      "outputs": []
    },
    {
      "cell_type": "code",
      "metadata": {
        "id": "Ardqj1uBntXG",
        "colab_type": "code",
        "outputId": "04be26cb-f96e-40ca-a0dd-eef8fb3ede29",
        "colab": {
          "base_uri": "https://localhost:8080/",
          "height": 300
        }
      },
      "source": [
        "# MODEL WITHOUT AUGMENTATION\n",
        "score = model_1.evaluate(x_test, y_test, batch_size=128, verbose=0)\n",
        "y_pred = model_1.predict_classes(x_test)\n",
        "print('Model without augmentation --> Loss: {} Accuracy: {}'.format(score[0], score[1]))\n",
        "array= confusion_matrix(np.argmax(y_test, axis=1), y_pred)\n",
        "df_cm = pd.DataFrame(array, index = [class_name[i] for i in range(2)],\n",
        "                  columns = [class_name[i] for i in range(2)])\n",
        "fig = sn.heatmap(df_cm, annot=True, annot_kws={\"size\": 16},fmt='g')\n",
        "fig.set(xlabel='Predicted Label',ylabel='True Label');"
      ],
      "execution_count": 0,
      "outputs": [
        {
          "output_type": "stream",
          "text": [
            "Model without augmentation --> Loss: 0.4365126724243164 Accuracy: 0.8125\n"
          ],
          "name": "stdout"
        },
        {
          "output_type": "display_data",
          "data": {
            "image/png": "[encoded data removed]",
            "text/plain": [
              "<Figure size 432x288 with 2 Axes>"
            ]
          },
          "metadata": {
            "tags": []
          }
        }
      ]
    },
    {
      "cell_type": "code",
      "metadata": {
        "id": "WDwad4Eyoaxh",
        "colab_type": "code",
        "outputId": "a322f85b-e408-4e86-c779-03c5f2fbe92e",
        "colab": {
          "base_uri": "https://localhost:8080/",
          "height": 301
        }
      },
      "source": [
        "# MODEL WITH AUGMENTATION\n",
        "score = model_2.evaluate(x_test, y_test, batch_size=128, verbose=0)\n",
        "y_pred = model_2.predict_classes(x_test)\n",
        "print('Model with augmentation --> Loss: {} Accuracy: {}'.format(score[0], score[1]))\n",
        "array= confusion_matrix(np.argmax(y_test, axis=1), y_pred)\n",
        "df_cm = pd.DataFrame(array, index = [class_name[i] for i in range(2)],\n",
        "                  columns = [class_name[i] for i in range(2)])\n",
        "fig = sn.heatmap(df_cm, annot=True, annot_kws={\"size\": 16},fmt='g')\n",
        "fig.set(xlabel='Predicted Label',ylabel='True Label');"
      ],
      "execution_count": 0,
      "outputs": [
        {
          "output_type": "stream",
          "text": [
            "Model without augmentation --> Loss: 0.6015352921485901 Accuracy: 0.68\n"
          ],
          "name": "stdout"
        },
        {
          "output_type": "display_data",
          "data": {
            "image/png": "[encoded data removed]",
            "text/plain": [
              "<Figure size 432x288 with 2 Axes>"
            ]
          },
          "metadata": {
            "tags": []
          }
        }
      ]
    },
    {
      "cell_type": "markdown",
      "metadata": {
        "id": "qm7wBR59tUwk",
        "colab_type": "text"
      },
      "source": [
        "## Showing applied policy"
      ]
    },
    {
      "cell_type": "code",
      "metadata": {
        "id": "8r824rkjZelp",
        "colab_type": "code",
        "outputId": "a0f8fb4a-eed4-485f-8223-1651ea24ec87",
        "colab": {
          "base_uri": "https://localhost:8080/",
          "height": 34
        }
      },
      "source": [
        "from augmenter import transform\n",
        "(x_train, y_train), (x_test, y_test) = train_test_split(augment=True, length_dataset=1)"
      ],
      "execution_count": 0,
      "outputs": [
        {
          "output_type": "execute_result",
          "data": {
            "text/plain": [
              "(2000, 32, 32, 3)"
            ]
          },
          "metadata": {
            "tags": []
          },
          "execution_count": 87
        }
      ]
    },
    {
      "cell_type": "code",
      "metadata": {
        "id": "8l_3bOe9sAgc",
        "colab_type": "code",
        "outputId": "c084b6a5-b267-497d-d571-e3bfcc50077f",
        "colab": {
          "base_uri": "https://localhost:8080/",
          "height": 320
        }
      },
      "source": [
        "policy = ['horizontal-flip', 0.902, 'rotate', 0.254, 'shear', 0.06, 'rotate', 0.244, 'horizontal-flip', 0.858, 'emboss', 0.768, 'crop', 0.249, 'dropout', 0.993, 'emboss', 0.31, 'gamma-contrast', 0.771]\n",
        "img1 = transform(policy[0], policy[1], np.array([x_train[0]]))[0]\n",
        "img1 = transform(policy[2], policy[3], [img1])[0]\n",
        "img2 = transform(policy[4], policy[5], np.array([x_train[0]]))[0]\n",
        "img2 = transform(policy[6], policy[7], [img2])[0]\n",
        "img3 = transform(policy[8], policy[9], np.array([x_train[0]]))[0]\n",
        "img3 = transform(policy[10], policy[11], [img3])[0]\n",
        "img4 = transform(policy[12], policy[13], np.array([x_train[0]]))[0]\n",
        "img4 = transform(policy[14], policy[15], [img4])[0]\n",
        "img5 = transform(policy[16], policy[17], np.array([x_train[0]]))[0]\n",
        "img5 = transform(policy[18], policy[19], img5)\n",
        "draw_img(img5, y_train[0], title=False)"
      ],
      "execution_count": 0,
      "outputs": [
        {
          "output_type": "stream",
          "text": [
            "/usr/local/lib/python3.6/dist-packages/imgaug/augmenters/meta.py:464: UserWarning: You provided a numpy array of shape (32, 32, 3) as input to augment_images(), which was interpreted as (N, H, W). The last dimension however has value 1 or 3, which indicates that you provided a single image with shape (H, W, C) instead. If that is the case, you should use augment_image(image) or augment_images([image]), otherwise you will not get the expected augmentations.\n",
            "  \"you will not get the expected augmentations.\" % (images_copy.shape,))\n"
          ],
          "name": "stderr"
        },
        {
          "output_type": "display_data",
          "data": {
            "image/png": "[encoded data removed]",
            "text/plain": [
              "<Figure size 432x288 with 1 Axes>"
            ]
          },
          "metadata": {
            "tags": []
          }
        }
      ]
    },
    {
      "cell_type": "markdown",
      "metadata": {
        "id": "oE_YUvVgtFYx",
        "colab_type": "text"
      },
      "source": [
        "### This is for using tiny dataset"
      ]
    },
    {
      "cell_type": "code",
      "metadata": {
        "ExecuteTime": {
          "end_time": "2019-04-18T22:02:08.155155Z",
          "start_time": "2019-04-18T22:02:08.150146Z"
        },
        "id": "AN36eu4cN3Ph",
        "colab_type": "code",
        "outputId": "18dfe3c4-b01a-4b6b-ce3c-a4215792d5fb",
        "colab": {}
      },
      "source": [
        "def get_annotations_map():\n",
        "    valAnnotationsPath = './tiny-imagenet-200/val/val_annotations.txt'\n",
        "    valAnnotationsFile = open(valAnnotationsPath, 'r')\n",
        "    valAnnotationsContents = valAnnotationsFile.read()\n",
        "    valAnnotations = {}\n",
        "\n",
        "    for line in valAnnotationsContents.splitlines():\n",
        "        pieces = line.strip().split()\n",
        "        valAnnotations[pieces[0]] = pieces[1]\n",
        "\n",
        "    return valAnnotations\n",
        "\n",
        "def load_images(path,num_classes):\n",
        "    #Load images\n",
        "    \n",
        "    print('Loading ' + str(num_classes) + ' classes')\n",
        "\n",
        "    X_train=np.zeros([num_classes*500,3,64,64],dtype='uint8')\n",
        "    y_train=np.zeros([num_classes*500], dtype='uint8')\n",
        "\n",
        "    trainPath=path+'/train'\n",
        "\n",
        "    print('loading training images...');\n",
        "\n",
        "    i=0\n",
        "    j=0\n",
        "    annotations={}\n",
        "    for sChild in os.listdir(trainPath):\n",
        "        sChildPath = os.path.join(os.path.join(trainPath,sChild),'images')\n",
        "        annotations[sChild]=j\n",
        "        for c in os.listdir(sChildPath):\n",
        "            X=np.array(Image.open(os.path.join(sChildPath,c)))\n",
        "            if len(np.shape(X))==2:\n",
        "                X_train[i]=np.array([X,X,X])\n",
        "            else:\n",
        "                X_train[i]=np.transpose(X,(2,0,1))\n",
        "            y_train[i]=j\n",
        "            i+=1\n",
        "        j+=1\n",
        "        if (j >= num_classes):\n",
        "            break\n",
        "\n",
        "    print('finished loading training images')\n",
        "\n",
        "    val_annotations_map = get_annotations_map()\n",
        "\n",
        "    X_test = np.zeros([num_classes*50,3,64,64],dtype='uint8')\n",
        "    y_test = np.zeros([num_classes*50], dtype='uint8')\n",
        "\n",
        "\n",
        "    print('loading test images...')\n",
        "\n",
        "    i = 0\n",
        "    testPath=path+'/val/images'\n",
        "    for sChild in os.listdir(testPath):\n",
        "        if val_annotations_map[sChild] in annotations.keys():\n",
        "            sChildPath = os.path.join(testPath, sChild)\n",
        "            X=np.array(Image.open(sChildPath))\n",
        "            if len(np.shape(X))==2:\n",
        "                X_test[i]=np.array([X,X,X])\n",
        "            else:\n",
        "                X_test[i]=np.transpose(X,(2,0,1))\n",
        "            y_test[i]=annotations[val_annotations_map[sChild]]\n",
        "            i+=1\n",
        "        else:\n",
        "            pass\n",
        "\n",
        "\n",
        "    print('finished loading test images'+str(i))\n",
        "\n",
        "    return X_train,y_train,X_test,y_test\n",
        "\n",
        "\n",
        "path='./tiny-imagenet-200'\n",
        "X_train,Y_train,X_test,Y_test=load_images(path,2)\n",
        "\n",
        "\n",
        "fig1 = plt.figure()\n",
        "fig1.suptitle('Train data')\n",
        "ax1 = fig1.add_subplot(221)\n",
        "ax1.axis(\"off\")\n",
        "ax1.imshow(np.transpose(X_train[0],(1,2,0)))\n",
        "print(Y_train[0])\n",
        "ax2 = fig1.add_subplot(222)\n",
        "ax2.axis(\"off\")\n",
        "ax2.imshow(np.transpose(X_train[499],(1,2,0)))\n",
        "print(Y_train[499])\n",
        "ax3 = fig1.add_subplot(223)\n",
        "ax3.axis(\"off\")\n",
        "ax3.imshow(np.transpose(X_train[500],(1,2,0)))\n",
        "print(Y_train[500])\n",
        "ax4 = fig1.add_subplot(224)\n",
        "ax4.axis(\"off\")\n",
        "ax4.imshow(np.transpose(X_train[919],(1,2,0)))\n",
        "print(Y_train[919])\n",
        "\n",
        "plt.show()\n",
        "\n",
        "fig2 = plt.figure()\n",
        "fig2.suptitle('Test data')\n",
        "ax1 = fig2.add_subplot(221)\n",
        "ax1.axis(\"off\")\n",
        "ax1.imshow(np.transpose(X_test[0],(1,2,0)))\n",
        "print(Y_test[0])\n",
        "ax2 = fig2.add_subplot(222)\n",
        "ax2.axis(\"off\")\n",
        "ax2.imshow(np.transpose(X_test[49],(1,2,0)))\n",
        "print(Y_test[49])\n",
        "ax3 = fig2.add_subplot(223)\n",
        "ax3.axis(\"off\")\n",
        "ax3.imshow(np.transpose(X_test[50],(1,2,0)))\n",
        "print(Y_test[50])\n",
        "ax4 = fig2.add_subplot(224)\n",
        "ax4.axis(\"off\")\n",
        "ax4.imshow(np.transpose(X_test[99],(1,2,0)))\n",
        "print(Y_test[99])\n",
        "\n",
        "plt.show()\n",
        "\n",
        "X_train = X_train.reshape((X_train.shape[0], 64, 64, 3))\n"
      ],
      "execution_count": 0,
      "outputs": [
        {
          "output_type": "execute_result",
          "data": {
            "text/plain": [
              "(50000, 32, 32, 3)"
            ]
          },
          "metadata": {
            "tags": []
          },
          "execution_count": 32
        }
      ]
    }
  ]
}